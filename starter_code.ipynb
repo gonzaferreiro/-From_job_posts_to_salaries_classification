{
 "cells": [
  {
   "cell_type": "markdown",
   "metadata": {
    "focus": false,
    "id": "69b9a648-bcc7-490d-9f9b-ea244d156bd6"
   },
   "source": [
    "<img src=\"http://imgur.com/1ZcRyrc.png\" style=\"float: left; margin: 15px; height: 80px\">\n",
    "\n",
    "\n",
    "# Web Scraping for Indeed.com and Predicting Salaries"
   ]
  },
  {
   "cell_type": "markdown",
   "metadata": {
    "focus": false,
    "id": "34681254-c802-462f-829d-8894d0772d08"
   },
   "source": [
    "In this project, we will practice two major skills: collecting data by scraping a website and then building a binary predictor with Logistic Regression.\n",
    "\n",
    "We are going to collect salary information on data science jobs in a variety of markets. Then using the location, title and summary of the job we will attempt to predict the salary of the job. For job posting sites, this would be extraordinarily useful. While most listings DO NOT come with salary information (as you will see in this exercise), being able to extrapolate or predict the expected salaries from other listings can help guide negotiations.\n",
    "\n",
    "Normally, we could use regression for this task; however, we will convert this problem into classification and use Logistic Regression or any other suitable classifier.\n",
    "\n",
    "- Question: Why would we want this to be a classification problem?\n",
    "- Answer: While more precision may be better, there is a fair amount of natural variance in job salaries - predicting a range may be useful.\n",
    "\n",
    "Therefore, the first part of the assignment will be focused on scraping Indeed.com. In the second, we'll focus on using listings with salary information to build a model and predict additional salaries."
   ]
  },
  {
   "cell_type": "markdown",
   "metadata": {
    "focus": false,
    "id": "a948d79c-5527-4c0d-ab23-f5d43ce72056"
   },
   "source": [
    "### Scraping job listings from Indeed.com"
   ]
  },
  {
   "cell_type": "markdown",
   "metadata": {
    "focus": true,
    "id": "7203e0c9-e437-4802-a6ad-7dc464f94436"
   },
   "source": [
    "We will be scraping job listings from Indeed.com using BeautifulSoup. Luckily, Indeed.com is a simple text page where we can easily find relevant entries.\n",
    "\n",
    "First, look at the source of an Indeed.com page: (http://www.indeed.com/jobs?q=data+scientist+%2420%2C000&l=New+York&start=10\").\n",
    "\n",
    "Notice, each job listing is underneath a `div` tag with a class name of `result`. We can use BeautifulSoup to extract those. "
   ]
  },
  {
   "cell_type": "markdown",
   "metadata": {
    "focus": false,
    "id": "9732c901-ae26-4160-8376-42e22dd327df"
   },
   "source": [
    "#### Setup a request (using `requests`) to the URL below. Use BeautifulSoup to parse the page and extract all results (HINT: Look for div tags with class name result)\n",
    "\n",
    "The URL here has many query parameters:\n",
    "\n",
    "- `q` for the job search\n",
    "- This is followed by \"+20,000\" to return results with salaries (or expected salaries >$20,000)\n",
    "- `l` for a location \n",
    "- `start` for what result number to start on"
   ]
  },
  {
   "cell_type": "code",
   "execution_count": 1,
   "metadata": {
    "focus": false,
    "id": "2efefc73-064a-482d-b3b5-ddf5508cb4ec"
   },
   "outputs": [],
   "source": [
    "import requests\n",
    "import bs4\n",
    "from bs4 import BeautifulSoup\n",
    "import numpy as np\n",
    "from tqdm import tqdm_notebook\n",
    "import pandas as pd\n",
    "import seaborn as sns\n",
    "import matplotlib.pyplot as plt"
   ]
  },
  {
   "cell_type": "code",
   "execution_count": 8,
   "metadata": {
    "focus": false,
    "id": "e915023e-6b0d-4982-af2a-b1e0355f4927"
   },
   "outputs": [],
   "source": [
    "URL = \"https://www.indeed.com/jobs?q=data+scientist+$20,000&l=New+York&start=0\"\n"
   ]
  },
  {
   "cell_type": "code",
   "execution_count": 9,
   "metadata": {},
   "outputs": [],
   "source": [
    "import requests\n",
    "r = requests.get(URL)"
   ]
  },
  {
   "cell_type": "code",
   "execution_count": 8,
   "metadata": {},
   "outputs": [
    {
     "data": {
      "text/plain": [
       "'<!DOCTYPE html>\\n<html lang=\"en\" dir=\"ltr\">\\n<head>\\n<meta http-equiv=\"content-type\" content=\"text/html;charset=UTF-8\">\\n<script type=\"text/javascript\" src=\"/s/35f01ca/en_US.js\"></script>\\n<link href=\"/s/97464e7/jobsearch_all.css\" rel=\"stylesheet\" type=\"text/css\">\\n<link rel=\"alternate\" type=\"application/rss+xml\" title=\"Data Scientist $20,000 Jobs, Employment in New York State\" href=\"http://rss.indeed.com/rss?q=data+scientist+%2420%2C000&l=New+York\">\\n<link rel=\"alternate\" media=\"only screen and (max-width: 640px)\" href=\"/m/jobs?q=data+scientist+%2420%2C000&l=New+York\">\\n<link rel=\"alternate\" media=\"handheld\" href=\"/m/jobs?q=data+scientist+%2420%2C000&l=New+York\">\\n\\n<script type=\"text/javascript\">\\n    \\n    if (typeof window[\\'closureReadyCallbacks\\'] == \\'undefined\\') {\\n        window[\\'closureReadyCallbacks\\'] = [];\\n    }\\n\\n    function call_when_jsall_loaded(cb) {\\n        if (window[\\'closureReady\\']) {\\n            cb();\\n        } else {\\n            window[\\'closureReadyCallbacks\\'].push(cb);\\n        }\\n'"
      ]
     },
     "execution_count": 8,
     "metadata": {},
     "output_type": "execute_result"
    }
   ],
   "source": [
    "r.text[:1000]"
   ]
  },
  {
   "cell_type": "code",
   "execution_count": 9,
   "metadata": {},
   "outputs": [],
   "source": [
    "soup = BeautifulSoup(r.text, 'html.parser')"
   ]
  },
  {
   "cell_type": "code",
   "execution_count": 390,
   "metadata": {},
   "outputs": [],
   "source": [
    "from pprint import pprint"
   ]
  },
  {
   "cell_type": "markdown",
   "metadata": {
    "focus": false,
    "id": "bb0b866a-26a7-45e9-8084-5a0f90eb4b3e"
   },
   "source": [
    "Let's look at one result more closely. A single `result` looks like\n",
    "\n",
    "```\n",
    "<div class=\" row result\" data-jk=\"2480d203f7e97210\" data-tn-component=\"organicJob\" id=\"p_2480d203f7e97210\" itemscope=\"\" itemtype=\"http://schema.org/JobPosting\">\n",
    "<h2 class=\"jobtitle\" id=\"jl_2480d203f7e97210\">\n",
    "<a class=\"turnstileLink\" data-tn-element=\"jobTitle\" onmousedown=\"return rclk(this,jobmap[0],1);\" rel=\"nofollow\" target=\"_blank\" title=\"AVP/Quantitative Analyst\">AVP/Quantitative Analyst</a>\n",
    "</h2>\n",
    "<span class=\"company\" itemprop=\"hiringOrganization\" itemtype=\"http://schema.org/Organization\">\n",
    "<span itemprop=\"name\">\n",
    "<a href=\"/cmp/Alliancebernstein?from=SERP&amp;campaignid=serp-linkcompanyname&amp;fromjk=2480d203f7e97210&amp;jcid=b374f2a780e04789\" target=\"_blank\">\n",
    "    AllianceBernstein</a></span>\n",
    "</span>\n",
    "<tr>\n",
    "<td class=\"snip\">\n",
    "<nobr>$117,500 - $127,500 a year</nobr>\n",
    "<div>\n",
    "<span class=\"summary\" itemprop=\"description\">\n",
    "C onduct quantitative and statistical research as well as portfolio management for various investment portfolios. Collaborate with Quantitative Analysts and</span>\n",
    "</div>\n",
    "</div>\n",
    "</td>\n",
    "</tr>\n",
    "</table>\n",
    "</div>\n",
    "```\n",
    "\n",
    "While this has some more verbose elements removed, we can see that there is some structure to the above:\n",
    "- The salary is available in a `nobr` element inside of a `td` element with `class='snip'`.\n",
    "- The title of a job is in a link with class set to `jobtitle` and a `data-tn-element='jobTitle'`.  \n",
    "- The location is set in a `span` with `class='location'`. \n",
    "- The company is set in a `span` with `class='company'`. "
   ]
  },
  {
   "cell_type": "markdown",
   "metadata": {
    "focus": false,
    "id": "f1eddb90-4ba8-483c-a229-77e93aa53119"
   },
   "source": [
    "### Write 4 functions to extract each item: location, company, job, and salary.\n",
    "\n",
    "Example: \n",
    "```python\n",
    "def extract_location_from_result(result):\n",
    "    return result.find ...\n",
    "```\n",
    "\n",
    "\n",
    "- **Make sure these functions are robust and can handle cases where the data/field may not be available.**\n",
    "    - Remember to check if a field is empty or `None` for attempting to call methods on it.\n",
    "    - Remember to use `try/except` if you anticipate errors.\n",
    "- **Test** the functions on the results above and simple examples."
   ]
  },
  {
   "cell_type": "code",
   "execution_count": 11,
   "metadata": {
    "focus": false,
    "id": "a1af53c9-9090-494f-b82e-cadb60a54909"
   },
   "outputs": [],
   "source": [
    "def extract_location_from_result(soup):\n",
    "    location = []\n",
    "    for job in soup.find_all('div', attrs={'class':'jobsearch-SerpJobCard'}):\n",
    "        try:\n",
    "            location.append(job.find('span', attrs={'class':'location'}).text)\n",
    "        except:\n",
    "            try:\n",
    "                location.append(job.find('div', attrs={'class':'location'}).text)\n",
    "            except:\n",
    "                location.append(np.nan)\n",
    "    return location"
   ]
  },
  {
   "cell_type": "code",
   "execution_count": 12,
   "metadata": {},
   "outputs": [],
   "source": [
    "def extract_company_from_result(soup):\n",
    "    company = []\n",
    "    for job in soup.find_all('div', attrs={'class':'jobsearch-SerpJobCard'}):\n",
    "        try:\n",
    "            company.append(job.find('span', attrs={'class':'company'}).text.strip())\n",
    "        except:\n",
    "            company.append(np.nan)\n",
    "    return company"
   ]
  },
  {
   "cell_type": "code",
   "execution_count": 13,
   "metadata": {},
   "outputs": [],
   "source": [
    "def extract_job_from_result(soup):\n",
    "    jobs = []\n",
    "    for job in soup.find_all('div', attrs={'class':'jobsearch-SerpJobCard'}):\n",
    "        try:\n",
    "            jobs.append(job.find('a', attrs={'data-tn-element':'jobTitle'}).text.strip())\n",
    "        except:\n",
    "            jobs.append(np.nan)\n",
    "    return jobs"
   ]
  },
  {
   "cell_type": "code",
   "execution_count": 14,
   "metadata": {},
   "outputs": [],
   "source": [
    "def extract_salary_from_result(soup):\n",
    "    salary = []\n",
    "    for job in soup.find_all('div', attrs={'class':'jobsearch-SerpJobCard'}):\n",
    "        try:\n",
    "            salary.append(job.find('span', attrs={'class':'salary no-wrap'}).text.strip())\n",
    "        except:\n",
    "            salary.append(np.nan)\n",
    "    return salary"
   ]
  },
  {
   "cell_type": "markdown",
   "metadata": {},
   "source": [
    "The following functions extract extra data from Indeed:"
   ]
  },
  {
   "cell_type": "code",
   "execution_count": 15,
   "metadata": {},
   "outputs": [],
   "source": [
    "def extract_kind_from_result(soup):\n",
    "    kind = []\n",
    "    for job in soup.find_all('div', attrs={'class':'jobsearch-SerpJobCard'}):\n",
    "        try:\n",
    "            kind_ind = job.find_all('span', attrs={'class':'mat'})\n",
    "            kind.append(kind_ind[1].text.strip())\n",
    "        except:\n",
    "            kind.append(np.nan)\n",
    "    return kind"
   ]
  },
  {
   "cell_type": "code",
   "execution_count": 16,
   "metadata": {},
   "outputs": [],
   "source": [
    "def extract_summary_from_result(soup):\n",
    "    summary = []\n",
    "    for job in soup.find_all('div', attrs={'class':'jobsearch-SerpJobCard'}):\n",
    "        try:\n",
    "            summary.append(job.find('div', attrs={'class':'summary'}).text.strip())\n",
    "        except:\n",
    "            try:\n",
    "                summary.append(job.find('span', attrs={'class':'summary'}).text.strip())\n",
    "            except:\n",
    "                summary.append(np.nan)\n",
    "    return summary"
   ]
  },
  {
   "cell_type": "markdown",
   "metadata": {
    "focus": false,
    "id": "34070e89-9521-4b45-90c8-57a6599aac68"
   },
   "source": [
    "Now, to scale up our scraping, we need to accumulate more results. We can do this by examining the URL above.\n",
    "\n",
    "- \"http://www.indeed.com/jobs?q=data+scientist+%2420%2C000&l=New+York&start=10\"\n",
    "\n",
    "There are two query parameters here we can alter to collect more results, the `l=New+York` and the `start=10`. The first controls the location of the results (so we can try a different city). The second controls where in the results to start and gives 10 results (thus, we can keep incrementing by 10 to go further in the list)."
   ]
  },
  {
   "cell_type": "markdown",
   "metadata": {
    "focus": false,
    "id": "e8beed7c-3e42-40c0-810f-5f67f8f885a0"
   },
   "source": [
    "### Colecting data from multiple cities\n",
    "\n",
    "**IMPORTANT: I will be working with UK cities only**"
   ]
  },
  {
   "cell_type": "code",
   "execution_count": 17,
   "metadata": {
    "focus": false,
    "id": "a9aa87ec-3575-4a01-a986-eb684f2c47d0"
   },
   "outputs": [],
   "source": [
    "# Cities created from here:\n",
    "# https://docs.google.com/spreadsheets/d/1ZRfsM0e7noKpS2Htkfl-0lXe34xgitmP6zwWoZXvlfg/edit?usp=sharing\n",
    "# Using list of cities in UK from Indeed: https://www.indeed.co.uk/m/browse?cat=loc\n",
    "\n",
    "cities_df = pd.read_csv('/Users/gonzaloferreiro/Documents/GA_Materials/DS_Inmersive/DSI8-lessons/projects/project-4/cities-clean.csv')"
   ]
  },
  {
   "cell_type": "code",
   "execution_count": 18,
   "metadata": {},
   "outputs": [
    {
     "name": "stdout",
     "output_type": "stream",
     "text": [
      "<class 'pandas.core.frame.DataFrame'>\n",
      "RangeIndex: 125 entries, 0 to 124\n",
      "Data columns (total 2 columns):\n",
      "City          125 non-null object\n",
      "Population    125 non-null int64\n",
      "dtypes: int64(1), object(1)\n",
      "memory usage: 2.0+ KB\n"
     ]
    }
   ],
   "source": [
    "cities_df.info()"
   ]
  },
  {
   "cell_type": "code",
   "execution_count": null,
   "metadata": {
    "focus": false,
    "id": "04b0f9af-540e-402f-8292-81748707c676"
   },
   "outputs": [],
   "source": [
    "max_results_per_big_city = 1000\n",
    "max_results_per_small_city = 50\n",
    "max_results_minor_types = 30 #30 max in London for minor job types as Apprenticeship\n",
    "big_cities = int(cities_df.quantile(0.90))\n",
    "\n",
    "results = {'Location':[],\n",
    "          'Company':[],\n",
    "          'Job':[],\n",
    "          'Salary':[],\n",
    "           'Summary':[],\n",
    "           'Kind':[],\n",
    "          'City':[],\n",
    "          \"Job_Type\":[],\n",
    "          \"Page\": []} # Added to check post scrapping if some page is colecting null values due to code change\n",
    "\n",
    "cities = cities_df.head(50)\n",
    "\n",
    "job_type = [\"commission\",\"contract\",\"temporary\",\"internship\",\"parttime\",\"fulltime\",\"apprenticeship\"]\n",
    "    \n",
    "for city in cities.City:\n",
    "    \n",
    "    if int(cities.Population[cities.City == city]) > big_cities:\n",
    "        max_results_per_city = max_results_per_big_city\n",
    "    else:\n",
    "        max_results_per_city = max_results_per_small_city\n",
    "        \n",
    "    for jtype in job_type:\n",
    "        \n",
    "        if jtype in list([\"temporary\",\"internship\",\"part-time\",\"apprenticeship\"]):\n",
    "            max_results_per_city = max_results_minor_types\n",
    "        \n",
    "        for start in tqdm_notebook(range(0, max_results_per_city, 10)):\n",
    "            url = \"https://www.indeed.co.uk/jobs?q=data+scientist+%2420%2C000&l={}&jt={}&start={}\".format(\n",
    "                city,jtype,start)\n",
    "            r = requests.get(url)\n",
    "            soup = BeautifulSoup(r.text,'html.parser')\n",
    "            results['Location'] += extract_location_from_result(soup)\n",
    "            results['Company'] += extract_company_from_result(soup)\n",
    "            results['Job'] += extract_job_from_result(soup)\n",
    "            results['Salary'] += extract_salary_from_result(soup)\n",
    "            results['Summary'] += extract_summary_from_result(soup)\n",
    "            results['Kind'] += extract_kind_from_result(soup)\n",
    "            results[\"City\"] += [city] * len(extract_job_from_result(soup))\n",
    "            results[\"Job_Type\"] += [jtype] * len(extract_job_from_result(soup))\n",
    "            results[\"Page\"] += [start/10] * len(extract_job_from_result(soup))\n",
    "\n",
    "            pass"
   ]
  },
  {
   "cell_type": "code",
   "execution_count": 21,
   "metadata": {},
   "outputs": [
    {
     "name": "stdout",
     "output_type": "stream",
     "text": [
      "14093\n",
      "14093\n",
      "14093\n",
      "14093\n",
      "14093\n",
      "14093\n",
      "14093\n",
      "14093\n",
      "14093\n"
     ]
    }
   ],
   "source": [
    "#Checking amount of results per key:\n",
    "\n",
    "for blabla in list(results.keys()):\n",
    "    print(len(results[blabla]))"
   ]
  },
  {
   "cell_type": "markdown",
   "metadata": {
    "focus": false,
    "id": "20339c09-5032-4e27-91be-286e9b46cd13"
   },
   "source": [
    "#### Use the functions you wrote above to parse out the 4 fields - location, title, company and salary. Create a dataframe from the results with those 4 columns."
   ]
  },
  {
   "cell_type": "code",
   "execution_count": 42,
   "metadata": {},
   "outputs": [],
   "source": [
    "results_df = pd.DataFrame(results,columns=results.keys())"
   ]
  },
  {
   "cell_type": "code",
   "execution_count": 43,
   "metadata": {},
   "outputs": [
    {
     "data": {
      "text/plain": [
       "(14093, 9)"
      ]
     },
     "execution_count": 43,
     "metadata": {},
     "output_type": "execute_result"
    }
   ],
   "source": [
    "results_df.shape"
   ]
  },
  {
   "cell_type": "code",
   "execution_count": 44,
   "metadata": {},
   "outputs": [
    {
     "data": {
      "text/html": [
       "<div>\n",
       "<style scoped>\n",
       "    .dataframe tbody tr th:only-of-type {\n",
       "        vertical-align: middle;\n",
       "    }\n",
       "\n",
       "    .dataframe tbody tr th {\n",
       "        vertical-align: top;\n",
       "    }\n",
       "\n",
       "    .dataframe thead th {\n",
       "        text-align: right;\n",
       "    }\n",
       "</style>\n",
       "<table border=\"1\" class=\"dataframe\">\n",
       "  <thead>\n",
       "    <tr style=\"text-align: right;\">\n",
       "      <th></th>\n",
       "      <th>Location</th>\n",
       "      <th>Company</th>\n",
       "      <th>Job</th>\n",
       "      <th>Salary</th>\n",
       "      <th>Summary</th>\n",
       "      <th>Kind</th>\n",
       "      <th>City</th>\n",
       "      <th>Job_Type</th>\n",
       "      <th>Page</th>\n",
       "    </tr>\n",
       "  </thead>\n",
       "  <tbody>\n",
       "    <tr>\n",
       "      <th>0</th>\n",
       "      <td>London</td>\n",
       "      <td>Center for Combating Extremist Ideology</td>\n",
       "      <td>Lead Data Scientist - Relocation to Saudi Arab...</td>\n",
       "      <td>NaN</td>\n",
       "      <td>Copyright and data protection). We are looking...</td>\n",
       "      <td>NaN</td>\n",
       "      <td>London</td>\n",
       "      <td>contract</td>\n",
       "      <td>0.0</td>\n",
       "    </tr>\n",
       "    <tr>\n",
       "      <th>1</th>\n",
       "      <td>United Kingdom</td>\n",
       "      <td>Center for Combating Extremist Ideology</td>\n",
       "      <td>Data Scientist - Relocation to Saudi Arabia - ...</td>\n",
       "      <td>£50,000 - £60,000 a year</td>\n",
       "      <td>Assist in conducting research and development ...</td>\n",
       "      <td>NaN</td>\n",
       "      <td>London</td>\n",
       "      <td>contract</td>\n",
       "      <td>0.0</td>\n",
       "    </tr>\n",
       "    <tr>\n",
       "      <th>2</th>\n",
       "      <td>London</td>\n",
       "      <td>Bank Partners</td>\n",
       "      <td>Senior Pharmacy Assistant Band 3</td>\n",
       "      <td>NaN</td>\n",
       "      <td>Some of the duties will include preparing samp...</td>\n",
       "      <td>NaN</td>\n",
       "      <td>London</td>\n",
       "      <td>contract</td>\n",
       "      <td>0.0</td>\n",
       "    </tr>\n",
       "    <tr>\n",
       "      <th>3</th>\n",
       "      <td>London</td>\n",
       "      <td>Nesta</td>\n",
       "      <td>Junior Data Scientist</td>\n",
       "      <td>£30,000 a year</td>\n",
       "      <td>The Innovation Mapping team makes use of new d...</td>\n",
       "      <td>Salary Search: Junior Data Scientist salaries ...</td>\n",
       "      <td>London</td>\n",
       "      <td>contract</td>\n",
       "      <td>0.0</td>\n",
       "    </tr>\n",
       "    <tr>\n",
       "      <th>4</th>\n",
       "      <td>London</td>\n",
       "      <td>Pivigo Ltd</td>\n",
       "      <td>Data Scientist</td>\n",
       "      <td>£350 - £650 a day</td>\n",
       "      <td>Also with opportunities for Data Scientists to...</td>\n",
       "      <td>Salary Search: Data Scientist salaries in London</td>\n",
       "      <td>London</td>\n",
       "      <td>contract</td>\n",
       "      <td>0.0</td>\n",
       "    </tr>\n",
       "  </tbody>\n",
       "</table>\n",
       "</div>"
      ],
      "text/plain": [
       "         Location                                  Company  \\\n",
       "0          London  Center for Combating Extremist Ideology   \n",
       "1  United Kingdom  Center for Combating Extremist Ideology   \n",
       "2          London                            Bank Partners   \n",
       "3          London                                    Nesta   \n",
       "4          London                               Pivigo Ltd   \n",
       "\n",
       "                                                 Job  \\\n",
       "0  Lead Data Scientist - Relocation to Saudi Arab...   \n",
       "1  Data Scientist - Relocation to Saudi Arabia - ...   \n",
       "2                   Senior Pharmacy Assistant Band 3   \n",
       "3                              Junior Data Scientist   \n",
       "4                                     Data Scientist   \n",
       "\n",
       "                     Salary  \\\n",
       "0                       NaN   \n",
       "1  £50,000 - £60,000 a year   \n",
       "2                       NaN   \n",
       "3            £30,000 a year   \n",
       "4         £350 - £650 a day   \n",
       "\n",
       "                                             Summary  \\\n",
       "0  Copyright and data protection). We are looking...   \n",
       "1  Assist in conducting research and development ...   \n",
       "2  Some of the duties will include preparing samp...   \n",
       "3  The Innovation Mapping team makes use of new d...   \n",
       "4  Also with opportunities for Data Scientists to...   \n",
       "\n",
       "                                                Kind    City  Job_Type  Page  \n",
       "0                                                NaN  London  contract   0.0  \n",
       "1                                                NaN  London  contract   0.0  \n",
       "2                                                NaN  London  contract   0.0  \n",
       "3  Salary Search: Junior Data Scientist salaries ...  London  contract   0.0  \n",
       "4   Salary Search: Data Scientist salaries in London  London  contract   0.0  "
      ]
     },
     "execution_count": 44,
     "metadata": {},
     "output_type": "execute_result"
    }
   ],
   "source": [
    "# Checking exctracted information:\n",
    "\n",
    "results_df.head()"
   ]
  },
  {
   "cell_type": "markdown",
   "metadata": {},
   "source": [
    "Saving scrapped data for later:"
   ]
  },
  {
   "cell_type": "code",
   "execution_count": 45,
   "metadata": {},
   "outputs": [],
   "source": [
    "results_df.to_csv(r'/Users/gonzaloferreiro/Documents/GA_Materials/DS_Inmersive/DSI8-lessons/projects/project-4/results_df.csv',\n",
    "                 index=False)"
   ]
  },
  {
   "cell_type": "code",
   "execution_count": 4,
   "metadata": {},
   "outputs": [],
   "source": [
    "results_df = pd.read_csv('/Users/gonzaloferreiro/Documents/GA_Materials/DS_Inmersive/DSI8-lessons/projects/project-4/results_df.csv')"
   ]
  },
  {
   "cell_type": "markdown",
   "metadata": {
    "focus": false,
    "id": "ff98ce64-78a7-441f-a675-63464e32c834"
   },
   "source": [
    "Lastly, we need to clean up salary data. \n",
    "\n",
    "1. Only a small number of the scraped results have salary information - only these will be used for modeling.\n",
    "1. Some of the salaries are not yearly but hourly or weekly, these will not be useful to us for now.\n",
    "1. Some of the entries may be duplicated.\n",
    "1. The salaries are given as text and usually with ranges."
   ]
  },
  {
   "cell_type": "code",
   "execution_count": 5,
   "metadata": {},
   "outputs": [
    {
     "data": {
      "text/html": [
       "<div>\n",
       "<style scoped>\n",
       "    .dataframe tbody tr th:only-of-type {\n",
       "        vertical-align: middle;\n",
       "    }\n",
       "\n",
       "    .dataframe tbody tr th {\n",
       "        vertical-align: top;\n",
       "    }\n",
       "\n",
       "    .dataframe thead th {\n",
       "        text-align: right;\n",
       "    }\n",
       "</style>\n",
       "<table border=\"1\" class=\"dataframe\">\n",
       "  <thead>\n",
       "    <tr style=\"text-align: right;\">\n",
       "      <th></th>\n",
       "      <th>Location</th>\n",
       "      <th>Company</th>\n",
       "      <th>Job</th>\n",
       "      <th>Salary</th>\n",
       "      <th>Summary</th>\n",
       "      <th>Kind</th>\n",
       "      <th>City</th>\n",
       "      <th>Job_Type</th>\n",
       "      <th>Page</th>\n",
       "    </tr>\n",
       "  </thead>\n",
       "  <tbody>\n",
       "    <tr>\n",
       "      <th>0</th>\n",
       "      <td>London</td>\n",
       "      <td>Center for Combating Extremist Ideology</td>\n",
       "      <td>Lead Data Scientist - Relocation to Saudi Arab...</td>\n",
       "      <td>NaN</td>\n",
       "      <td>Copyright and data protection). We are looking...</td>\n",
       "      <td>NaN</td>\n",
       "      <td>London</td>\n",
       "      <td>contract</td>\n",
       "      <td>0.0</td>\n",
       "    </tr>\n",
       "    <tr>\n",
       "      <th>1</th>\n",
       "      <td>United Kingdom</td>\n",
       "      <td>Center for Combating Extremist Ideology</td>\n",
       "      <td>Data Scientist - Relocation to Saudi Arabia - ...</td>\n",
       "      <td>£50,000 - £60,000 a year</td>\n",
       "      <td>Assist in conducting research and development ...</td>\n",
       "      <td>NaN</td>\n",
       "      <td>London</td>\n",
       "      <td>contract</td>\n",
       "      <td>0.0</td>\n",
       "    </tr>\n",
       "    <tr>\n",
       "      <th>2</th>\n",
       "      <td>London</td>\n",
       "      <td>Bank Partners</td>\n",
       "      <td>Senior Pharmacy Assistant Band 3</td>\n",
       "      <td>NaN</td>\n",
       "      <td>Some of the duties will include preparing samp...</td>\n",
       "      <td>NaN</td>\n",
       "      <td>London</td>\n",
       "      <td>contract</td>\n",
       "      <td>0.0</td>\n",
       "    </tr>\n",
       "    <tr>\n",
       "      <th>3</th>\n",
       "      <td>London</td>\n",
       "      <td>Nesta</td>\n",
       "      <td>Junior Data Scientist</td>\n",
       "      <td>£30,000 a year</td>\n",
       "      <td>The Innovation Mapping team makes use of new d...</td>\n",
       "      <td>Salary Search: Junior Data Scientist salaries ...</td>\n",
       "      <td>London</td>\n",
       "      <td>contract</td>\n",
       "      <td>0.0</td>\n",
       "    </tr>\n",
       "    <tr>\n",
       "      <th>4</th>\n",
       "      <td>London</td>\n",
       "      <td>Pivigo Ltd</td>\n",
       "      <td>Data Scientist</td>\n",
       "      <td>£350 - £650 a day</td>\n",
       "      <td>Also with opportunities for Data Scientists to...</td>\n",
       "      <td>Salary Search: Data Scientist salaries in London</td>\n",
       "      <td>London</td>\n",
       "      <td>contract</td>\n",
       "      <td>0.0</td>\n",
       "    </tr>\n",
       "  </tbody>\n",
       "</table>\n",
       "</div>"
      ],
      "text/plain": [
       "         Location                                  Company  \\\n",
       "0          London  Center for Combating Extremist Ideology   \n",
       "1  United Kingdom  Center for Combating Extremist Ideology   \n",
       "2          London                            Bank Partners   \n",
       "3          London                                    Nesta   \n",
       "4          London                               Pivigo Ltd   \n",
       "\n",
       "                                                 Job  \\\n",
       "0  Lead Data Scientist - Relocation to Saudi Arab...   \n",
       "1  Data Scientist - Relocation to Saudi Arabia - ...   \n",
       "2                   Senior Pharmacy Assistant Band 3   \n",
       "3                              Junior Data Scientist   \n",
       "4                                     Data Scientist   \n",
       "\n",
       "                     Salary  \\\n",
       "0                       NaN   \n",
       "1  £50,000 - £60,000 a year   \n",
       "2                       NaN   \n",
       "3            £30,000 a year   \n",
       "4         £350 - £650 a day   \n",
       "\n",
       "                                             Summary  \\\n",
       "0  Copyright and data protection). We are looking...   \n",
       "1  Assist in conducting research and development ...   \n",
       "2  Some of the duties will include preparing samp...   \n",
       "3  The Innovation Mapping team makes use of new d...   \n",
       "4  Also with opportunities for Data Scientists to...   \n",
       "\n",
       "                                                Kind    City  Job_Type  Page  \n",
       "0                                                NaN  London  contract   0.0  \n",
       "1                                                NaN  London  contract   0.0  \n",
       "2                                                NaN  London  contract   0.0  \n",
       "3  Salary Search: Junior Data Scientist salaries ...  London  contract   0.0  \n",
       "4   Salary Search: Data Scientist salaries in London  London  contract   0.0  "
      ]
     },
     "execution_count": 5,
     "metadata": {},
     "output_type": "execute_result"
    }
   ],
   "source": [
    "# Checking loading:\n",
    "\n",
    "results_df.head()"
   ]
  },
  {
   "cell_type": "code",
   "execution_count": 6,
   "metadata": {},
   "outputs": [
    {
     "data": {
      "text/plain": [
       "Location       0\n",
       "Company        0\n",
       "Job            0\n",
       "Salary      6330\n",
       "Summary        0\n",
       "Kind        4408\n",
       "City           0\n",
       "Job_Type       0\n",
       "Page           0\n",
       "dtype: int64"
      ]
     },
     "execution_count": 6,
     "metadata": {},
     "output_type": "execute_result"
    }
   ],
   "source": [
    "results_df.isnull().sum()"
   ]
  },
  {
   "cell_type": "code",
   "execution_count": 7,
   "metadata": {},
   "outputs": [],
   "source": [
    "# Droping \"Page\" that was a variable created to manage possible null values generated by changes in specific pages:\n",
    "\n",
    "results_df.drop(\"Page\",axis=1,inplace=True)"
   ]
  },
  {
   "cell_type": "markdown",
   "metadata": {},
   "source": [
    "**Keeping results with salary information**"
   ]
  },
  {
   "cell_type": "code",
   "execution_count": 8,
   "metadata": {},
   "outputs": [],
   "source": [
    "salary_results = results_df[results_df[\"Salary\"].notnull()]\n",
    "salary_results.reset_index(drop=True,inplace=True)\n",
    "salary_results = salary_results.drop_duplicates(keep=\"last\") \n",
    "\n",
    "#Keeping last while dropping duplicates since sponsored ads are incomplete and appear first"
   ]
  },
  {
   "cell_type": "code",
   "execution_count": 9,
   "metadata": {},
   "outputs": [
    {
     "data": {
      "text/plain": [
       "(1707, 8)"
      ]
     },
     "execution_count": 9,
     "metadata": {},
     "output_type": "execute_result"
    }
   ],
   "source": [
    "salary_results.shape"
   ]
  },
  {
   "cell_type": "markdown",
   "metadata": {},
   "source": [
    "**Obtaining industry information from the about page of each company in Indeed**"
   ]
  },
  {
   "cell_type": "code",
   "execution_count": 10,
   "metadata": {},
   "outputs": [],
   "source": [
    "companies = pd.DataFrame(salary_results.Company.unique(),columns=[\"Company\"])"
   ]
  },
  {
   "cell_type": "code",
   "execution_count": 11,
   "metadata": {},
   "outputs": [],
   "source": [
    "companies_search = companies.Company.str.replace(\" - \", \"---\")"
   ]
  },
  {
   "cell_type": "code",
   "execution_count": 12,
   "metadata": {},
   "outputs": [],
   "source": [
    "# Creating function to scrap information\n",
    "\n",
    "def extract_industry_from_result(soup):\n",
    "    industry = \"\"\n",
    "    try:\n",
    "        industry = soup.find('a', attrs={'data-tn-element':'industryLink'}).text.strip()\n",
    "    except:\n",
    "        industry = \"Other\"\n",
    "    return industry"
   ]
  },
  {
   "cell_type": "code",
   "execution_count": 13,
   "metadata": {
    "scrolled": false
   },
   "outputs": [],
   "source": [
    "# Scapping indstry from Indeed company profile\n",
    "\n",
    "industry = []\n",
    "\n",
    "for company in companies_search:\n",
    "    url_ = \"https://www.indeed.co.uk/cmp/{}/about\".format(company)\n",
    "    r_ = requests.get(url_)\n",
    "    soup_ = BeautifulSoup(r_.text,'html.parser')\n",
    "    industry.append(extract_industry_from_result(soup_))"
   ]
  },
  {
   "cell_type": "code",
   "execution_count": 14,
   "metadata": {},
   "outputs": [],
   "source": [
    "industry_dict = {\"Company\": list(companies.Company),\n",
    "               \"Industry\": list(industry)}"
   ]
  },
  {
   "cell_type": "code",
   "execution_count": 15,
   "metadata": {},
   "outputs": [],
   "source": [
    "industry_df = pd.DataFrame(industry_dict,\n",
    "                           columns=[\"Company\",\"Industry\"])"
   ]
  },
  {
   "cell_type": "code",
   "execution_count": 16,
   "metadata": {},
   "outputs": [],
   "source": [
    "salary_results_ind = pd.merge(salary_results, industry_df, on='Company', how='left')"
   ]
  },
  {
   "cell_type": "code",
   "execution_count": 17,
   "metadata": {},
   "outputs": [
    {
     "data": {
      "text/plain": [
       "(1707, 9)"
      ]
     },
     "execution_count": 17,
     "metadata": {},
     "output_type": "execute_result"
    }
   ],
   "source": [
    "salary_results_ind.shape"
   ]
  },
  {
   "cell_type": "markdown",
   "metadata": {},
   "source": [
    "**Cleaning salaries information**"
   ]
  },
  {
   "cell_type": "code",
   "execution_count": 18,
   "metadata": {},
   "outputs": [],
   "source": [
    "# Note: all this was done before learning regex :("
   ]
  },
  {
   "cell_type": "code",
   "execution_count": 19,
   "metadata": {},
   "outputs": [],
   "source": [
    "cleaning_salaries = salary_results_ind.Salary.str.split(expand=True,)"
   ]
  },
  {
   "cell_type": "code",
   "execution_count": 20,
   "metadata": {},
   "outputs": [
    {
     "data": {
      "text/html": [
       "<div>\n",
       "<style scoped>\n",
       "    .dataframe tbody tr th:only-of-type {\n",
       "        vertical-align: middle;\n",
       "    }\n",
       "\n",
       "    .dataframe tbody tr th {\n",
       "        vertical-align: top;\n",
       "    }\n",
       "\n",
       "    .dataframe thead th {\n",
       "        text-align: right;\n",
       "    }\n",
       "</style>\n",
       "<table border=\"1\" class=\"dataframe\">\n",
       "  <thead>\n",
       "    <tr style=\"text-align: right;\">\n",
       "      <th></th>\n",
       "      <th>0</th>\n",
       "      <th>1</th>\n",
       "      <th>2</th>\n",
       "      <th>3</th>\n",
       "      <th>4</th>\n",
       "    </tr>\n",
       "  </thead>\n",
       "  <tbody>\n",
       "    <tr>\n",
       "      <th>0</th>\n",
       "      <td>£30,000</td>\n",
       "      <td>a</td>\n",
       "      <td>year</td>\n",
       "      <td>None</td>\n",
       "      <td>None</td>\n",
       "    </tr>\n",
       "    <tr>\n",
       "      <th>1</th>\n",
       "      <td>£350</td>\n",
       "      <td>-</td>\n",
       "      <td>£650</td>\n",
       "      <td>a</td>\n",
       "      <td>day</td>\n",
       "    </tr>\n",
       "    <tr>\n",
       "      <th>2</th>\n",
       "      <td>£400</td>\n",
       "      <td>-</td>\n",
       "      <td>£500</td>\n",
       "      <td>a</td>\n",
       "      <td>day</td>\n",
       "    </tr>\n",
       "    <tr>\n",
       "      <th>3</th>\n",
       "      <td>£365</td>\n",
       "      <td>-</td>\n",
       "      <td>£450</td>\n",
       "      <td>a</td>\n",
       "      <td>week</td>\n",
       "    </tr>\n",
       "    <tr>\n",
       "      <th>4</th>\n",
       "      <td>£550</td>\n",
       "      <td>a</td>\n",
       "      <td>day</td>\n",
       "      <td>None</td>\n",
       "      <td>None</td>\n",
       "    </tr>\n",
       "  </tbody>\n",
       "</table>\n",
       "</div>"
      ],
      "text/plain": [
       "         0  1     2     3     4\n",
       "0  £30,000  a  year  None  None\n",
       "1     £350  -  £650     a   day\n",
       "2     £400  -  £500     a   day\n",
       "3     £365  -  £450     a  week\n",
       "4     £550  a   day  None  None"
      ]
     },
     "execution_count": 20,
     "metadata": {},
     "output_type": "execute_result"
    }
   ],
   "source": [
    "cleaning_salaries.head()"
   ]
  },
  {
   "cell_type": "code",
   "execution_count": 21,
   "metadata": {},
   "outputs": [],
   "source": [
    "cleaning_salaries.columns = [\"From\",\"X1\",\"To\",\"X2\",\"Period\"]"
   ]
  },
  {
   "cell_type": "code",
   "execution_count": 22,
   "metadata": {},
   "outputs": [],
   "source": [
    "cleaning_salaries.From = cleaning_salaries.From.str.replace(\"£\",\"\")\n",
    "cleaning_salaries.To = cleaning_salaries.To.str.replace(\"£\",\"\")\n",
    "cleaning_salaries.From = cleaning_salaries.From.str.replace(\",\",\"\")\n",
    "cleaning_salaries.To = cleaning_salaries.To.str.replace(\",\",\"\")\n",
    "cleaning_salaries.From = cleaning_salaries.From.str.replace(\".\",\"\")\n",
    "cleaning_salaries.To = cleaning_salaries.To.str.replace(\".\",\"\")"
   ]
  },
  {
   "cell_type": "code",
   "execution_count": 23,
   "metadata": {},
   "outputs": [],
   "source": [
    "period_ok = []\n",
    "periods = list(cleaning_salaries.Period.value_counts().index)\n",
    "periods.append(\"month\")\n",
    "for each in cleaning_salaries.index:\n",
    "    flag = False\n",
    "    for period in periods:\n",
    "        if cleaning_salaries.X1.iloc[each] == period or cleaning_salaries.To.iloc[each] == period\\\n",
    "        or cleaning_salaries.X2.iloc[each] == period or cleaning_salaries.Period.iloc[each] == period:\n",
    "            period_ok.append(period)\n",
    "            flag = True\n",
    "    if not flag:\n",
    "        period_ok.append(np.nan)"
   ]
  },
  {
   "cell_type": "code",
   "execution_count": 24,
   "metadata": {},
   "outputs": [],
   "source": [
    "cleaning_salaries[\"Period_ok\"] = period_ok\n",
    "cleaning_salaries.drop([\"X1\",\"X2\",\"Period\"],axis=1,inplace=True)"
   ]
  },
  {
   "cell_type": "code",
   "execution_count": 25,
   "metadata": {},
   "outputs": [],
   "source": [
    "average_salary = []\n",
    "\n",
    "# Getting average salary if needed and transforming it into anually\n",
    "# The period transformation into anualy has been done assuming:\n",
    "# * that we have all 8hs positions\n",
    "# * that all the positions work 5 days a week\n",
    "\n",
    "for each in cleaning_salaries.index:\n",
    "    try:\n",
    "        avg_salary = (int(cleaning_salaries.From.iloc[each]) + int(cleaning_salaries.To.iloc[each]))/2\n",
    "    except:\n",
    "        avg_salary = int(cleaning_salaries.From.iloc[each])\n",
    "    if cleaning_salaries.Period_ok.iloc[each] == \"year\":\n",
    "        average_salary.append(avg_salary)\n",
    "    elif cleaning_salaries.Period_ok.iloc[each] == \"month\":\n",
    "        avg_salary = avg_salary * 12\n",
    "        average_salary.append(avg_salary)\n",
    "    elif cleaning_salaries.Period_ok.iloc[each] == \"week\":\n",
    "        avg_salary = avg_salary * 52\n",
    "        average_salary.append(avg_salary)\n",
    "    elif cleaning_salaries.Period_ok.iloc[each] == \"day\":\n",
    "        avg_salary = avg_salary * 5 * 52\n",
    "        average_salary.append(avg_salary)\n",
    "    elif cleaning_salaries.Period_ok.iloc[each] == \"hour\":\n",
    "        avg_salary = avg_salary * 8 * 5 * 52\n",
    "        average_salary.append(avg_salary)\n",
    "    else:\n",
    "        average_salary.append(np.nan)"
   ]
  },
  {
   "cell_type": "code",
   "execution_count": 26,
   "metadata": {},
   "outputs": [],
   "source": [
    "working_jobs = salary_results_ind.copy()"
   ]
  },
  {
   "cell_type": "code",
   "execution_count": 27,
   "metadata": {},
   "outputs": [],
   "source": [
    "working_jobs[\"Avg_Salary\"] = average_salary"
   ]
  },
  {
   "cell_type": "code",
   "execution_count": 28,
   "metadata": {},
   "outputs": [],
   "source": [
    "working_jobs.drop(\"Salary\",axis=1,inplace=True)"
   ]
  },
  {
   "cell_type": "code",
   "execution_count": 29,
   "metadata": {},
   "outputs": [
    {
     "data": {
      "image/png": "[encoded data removed]",
      "text/plain": [
       "<Figure size 432x144 with 1 Axes>"
      ]
     },
     "metadata": {
      "needs_background": "light"
     },
     "output_type": "display_data"
    }
   ],
   "source": [
    "fig, ax = plt.subplots(figsize=(6, 2))\n",
    "sns.boxplot(data=working_jobs.Avg_Salary, orient='h')\n",
    "plt.show()"
   ]
  },
  {
   "cell_type": "code",
   "execution_count": 30,
   "metadata": {},
   "outputs": [],
   "source": [
    "# There are some points that seem to have incorrect data that I will drop:\n",
    "\n",
    "working_jobs = working_jobs[working_jobs.Avg_Salary < 250000]\n",
    "working_jobs.reset_index(drop=True,inplace=True)"
   ]
  },
  {
   "cell_type": "code",
   "execution_count": 31,
   "metadata": {},
   "outputs": [
    {
     "data": {
      "text/plain": [
       "(1667, 9)"
      ]
     },
     "execution_count": 31,
     "metadata": {},
     "output_type": "execute_result"
    }
   ],
   "source": [
    "working_jobs.shape"
   ]
  },
  {
   "cell_type": "markdown",
   "metadata": {},
   "source": [
    "\n",
    "\n",
    "**Cleaning kind of job information**"
   ]
  },
  {
   "cell_type": "code",
   "execution_count": 32,
   "metadata": {},
   "outputs": [],
   "source": [
    "# Dictionary of keywords to determine seniority level:\n",
    "\n",
    "seniority_dict = {\"junior_level\": [\"internship\",\"intern\",\"assistant\",\"junior\",\n",
    "                                   \"aprenticeship\",\"apprenticeship\",\"entry\"],\n",
    "                  \"senior_level\": [\"manager\",\"director\",\"vp\", \"chief\",\n",
    "                                   \"senior\",\"lead\",\"leader\",\"principal\",\"expert\",\"head\",\n",
    "                                  \"years\",\"phd\",\"expertise\",\"experienced\",\"phd\",\"mentor\"]}"
   ]
  },
  {
   "cell_type": "code",
   "execution_count": 33,
   "metadata": {},
   "outputs": [],
   "source": [
    "# Getting a list of cleaned positions\n",
    "\n",
    "kind_list = []\n",
    "for each in working_jobs.index:\n",
    "    final_word = \"\"\n",
    "    append = False\n",
    "    try:\n",
    "        words = working_jobs.Kind.iloc[each].split()\n",
    "        for word in words[2:]:\n",
    "            if word != \"salaries\":\n",
    "                final_word = final_word + word\n",
    "            elif word == \"salaries\":\n",
    "                for level in seniority_dict:\n",
    "                    for seniority in seniority_dict[level]:\n",
    "                        if seniority in final_word.lower():\n",
    "                            final_word = final_word.lower().replace(seniority,\"\")\n",
    "                        if \"scientist\" in final_word.lower():\n",
    "                            final_word = \"datascientist\"\n",
    "                kind_list.append(final_word.lower())\n",
    "                append = True\n",
    "                break\n",
    "    except:\n",
    "        None\n",
    "    if not append:\n",
    "        kind_list.append(np.nan)"
   ]
  },
  {
   "cell_type": "code",
   "execution_count": 34,
   "metadata": {
    "scrolled": true
   },
   "outputs": [],
   "source": [
    "working_jobs[\"Job_Kind\"] = kind_list"
   ]
  },
  {
   "cell_type": "code",
   "execution_count": 35,
   "metadata": {},
   "outputs": [
    {
     "data": {
      "text/plain": [
       "datascientist                    541\n",
       "researchassociate                 62\n",
       "developmentoperationsengineer     55\n",
       "researchfellow                    50\n",
       "machinelearningengineer           22\n",
       "Name: Job_Kind, dtype: int64"
      ]
     },
     "execution_count": 35,
     "metadata": {},
     "output_type": "execute_result"
    }
   ],
   "source": [
    "working_jobs.Job_Kind.value_counts().head()"
   ]
  },
  {
   "cell_type": "markdown",
   "metadata": {},
   "source": [
    "**Creating job levels column**"
   ]
  },
  {
   "cell_type": "code",
   "execution_count": 36,
   "metadata": {},
   "outputs": [],
   "source": [
    "from nltk.stem import PorterStemmer\n",
    "\n",
    "stemmer = PorterStemmer()"
   ]
  },
  {
   "cell_type": "code",
   "execution_count": 37,
   "metadata": {},
   "outputs": [],
   "source": [
    "# Getting a list with seniority levels\n",
    "# NOTE: the following code asumes than any job posting not containing any of the words on\n",
    "# the seniority_dict is a middle_level job\n",
    "\n",
    "seniority_levels = []\n",
    "for each in working_jobs.index:\n",
    "    \n",
    "    append = False\n",
    "    job_words = working_jobs.Job.iloc[each].split()\n",
    "    \n",
    "    for word_in_title in job_words:\n",
    "        for key in seniority_dict.keys():\n",
    "            for level in seniority_dict[key]:\n",
    "                # Excluding this words from stemmer because of ambiguety when using it\n",
    "                if level == \"internship\" or level == \"entry\" or level == \"intern\":\n",
    "                    w_check = level.lower()\n",
    "                else:\n",
    "                    w_check = stemmer.stem(level.lower())\n",
    "                if stemmer.stem(word_in_title.lower()) == w_check:\n",
    "                    if append == False:\n",
    "                        seniority_levels.append(key)\n",
    "                        append = True\n",
    "                    \n",
    "    if append == False:\n",
    "        summary_words = working_jobs.Summary.iloc[each].split()\n",
    "        \n",
    "        for word_in_summary in summary_words:\n",
    "            for key in seniority_dict.keys():\n",
    "                for level in seniority_dict[key]:\n",
    "                    # Excluding this words from stemmer because of ambiguety when using it\n",
    "                    if level == \"internship\" or level == \"entry\" or level == \"intern\": \n",
    "                        w_check = level.lower()\n",
    "                    else:\n",
    "                        w_check = stemmer.stem(level.lower())                   \n",
    "                    if stemmer.stem(word_in_summary.lower()) == w_check:\n",
    "                        if not append:\n",
    "                            seniority_levels.append(key)\n",
    "                            append = True\n",
    "                        \n",
    "    if append == False:\n",
    "        seniority_levels.append(\"middle_level\")"
   ]
  },
  {
   "cell_type": "code",
   "execution_count": 38,
   "metadata": {},
   "outputs": [],
   "source": [
    "seniority_df = pd.DataFrame(seniority_levels,columns=[\"Seniority\"])"
   ]
  },
  {
   "cell_type": "code",
   "execution_count": 39,
   "metadata": {},
   "outputs": [
    {
     "data": {
      "text/plain": [
       "middle_level    878\n",
       "senior_level    475\n",
       "junior_level    314\n",
       "Name: Seniority, dtype: int64"
      ]
     },
     "execution_count": 39,
     "metadata": {},
     "output_type": "execute_result"
    }
   ],
   "source": [
    "seniority_df.Seniority.value_counts()"
   ]
  },
  {
   "cell_type": "code",
   "execution_count": 40,
   "metadata": {},
   "outputs": [
    {
     "data": {
      "text/plain": [
       "(1667, 1)"
      ]
     },
     "execution_count": 40,
     "metadata": {},
     "output_type": "execute_result"
    }
   ],
   "source": [
    "seniority_df.shape"
   ]
  },
  {
   "cell_type": "code",
   "execution_count": 41,
   "metadata": {},
   "outputs": [
    {
     "data": {
      "text/plain": [
       "(1667, 10)"
      ]
     },
     "execution_count": 41,
     "metadata": {},
     "output_type": "execute_result"
    }
   ],
   "source": [
    "working_jobs.shape"
   ]
  },
  {
   "cell_type": "code",
   "execution_count": 42,
   "metadata": {},
   "outputs": [],
   "source": [
    "working_jobs[\"Seniority\"] = seniority_levels"
   ]
  },
  {
   "cell_type": "code",
   "execution_count": 43,
   "metadata": {},
   "outputs": [
    {
     "data": {
      "text/plain": [
       "middle_level    878\n",
       "senior_level    475\n",
       "junior_level    314\n",
       "Name: Seniority, dtype: int64"
      ]
     },
     "execution_count": 43,
     "metadata": {},
     "output_type": "execute_result"
    }
   ],
   "source": [
    "working_jobs.Seniority.value_counts()"
   ]
  },
  {
   "cell_type": "markdown",
   "metadata": {},
   "source": [
    "**Cleaning location information**"
   ]
  },
  {
   "cell_type": "code",
   "execution_count": 44,
   "metadata": {},
   "outputs": [
    {
     "data": {
      "text/plain": [
       "London            359\n",
       "United Kingdom    192\n",
       "Berkshire          76\n",
       "Manchester         75\n",
       "Leeds              59\n",
       "Derbyshire         54\n",
       "East Kilbride      53\n",
       "Warrington         38\n",
       "Glasgow            37\n",
       "Buxton             33\n",
       "Name: Location, dtype: int64"
      ]
     },
     "execution_count": 44,
     "metadata": {},
     "output_type": "execute_result"
    }
   ],
   "source": [
    "working_jobs.Location.value_counts().head(10)"
   ]
  },
  {
   "cell_type": "code",
   "execution_count": 45,
   "metadata": {},
   "outputs": [],
   "source": [
    "# As the Location scrapped from Indeed in the UK has cities, boroughs, and even a mix of both o simply UK\n",
    "# I will be dropping that column, and keeping the one created from the filters"
   ]
  },
  {
   "cell_type": "code",
   "execution_count": 46,
   "metadata": {},
   "outputs": [],
   "source": [
    "final_working_jobs = working_jobs.copy()"
   ]
  },
  {
   "cell_type": "code",
   "execution_count": 47,
   "metadata": {},
   "outputs": [],
   "source": [
    "final_working_jobs.drop(\"Location\",axis=1,inplace=True)"
   ]
  },
  {
   "cell_type": "markdown",
   "metadata": {},
   "source": [
    "**Final checks: coherence, null values, duplicates and last drops**"
   ]
  },
  {
   "cell_type": "code",
   "execution_count": 48,
   "metadata": {},
   "outputs": [
    {
     "data": {
      "text/plain": [
       "Company         0\n",
       "Job             0\n",
       "Summary         0\n",
       "Kind          320\n",
       "City            0\n",
       "Job_Type        0\n",
       "Industry        0\n",
       "Avg_Salary      0\n",
       "Job_Kind      413\n",
       "Seniority       0\n",
       "dtype: int64"
      ]
     },
     "execution_count": 48,
     "metadata": {},
     "output_type": "execute_result"
    }
   ],
   "source": [
    "final_working_jobs.isnull().sum()"
   ]
  },
  {
   "cell_type": "code",
   "execution_count": 49,
   "metadata": {},
   "outputs": [],
   "source": [
    "# Dropping the scrapped \"Kind\" columns since now we have the cleaned one\n",
    "\n",
    "final_working_jobs.drop('Kind',axis=1,inplace=True)"
   ]
  },
  {
   "cell_type": "code",
   "execution_count": 50,
   "metadata": {},
   "outputs": [],
   "source": [
    "# Null values in \"Job_Kind\" correspond to not identified job kinds:\n",
    "\n",
    "final_working_jobs.Job_Kind = final_working_jobs.Job_Kind.fillna(\"Unknown\")"
   ]
  },
  {
   "cell_type": "code",
   "execution_count": 51,
   "metadata": {},
   "outputs": [
    {
     "name": "stdout",
     "output_type": "stream",
     "text": [
      "<class 'pandas.core.frame.DataFrame'>\n",
      "RangeIndex: 1667 entries, 0 to 1666\n",
      "Data columns (total 9 columns):\n",
      "Company       1667 non-null object\n",
      "Job           1667 non-null object\n",
      "Summary       1667 non-null object\n",
      "City          1667 non-null object\n",
      "Job_Type      1667 non-null object\n",
      "Industry      1667 non-null object\n",
      "Avg_Salary    1667 non-null float64\n",
      "Job_Kind      1667 non-null object\n",
      "Seniority     1667 non-null object\n",
      "dtypes: float64(1), object(8)\n",
      "memory usage: 117.3+ KB\n"
     ]
    }
   ],
   "source": [
    "final_working_jobs.info()"
   ]
  },
  {
   "cell_type": "code",
   "execution_count": 52,
   "metadata": {},
   "outputs": [],
   "source": [
    "# Storing \"Job\" column apart just in case I need it later\n",
    "\n",
    "job_df = final_working_jobs.pop(\"Job\")\n",
    "job_df = pd.DataFrame(job_df,columns=[\"Jobs\"])"
   ]
  },
  {
   "cell_type": "code",
   "execution_count": 53,
   "metadata": {},
   "outputs": [],
   "source": [
    "# Storing \"Summary\" to vectorize it:\n",
    "\n",
    "summary_df = final_working_jobs.pop(\"Summary\")\n",
    "summary_df = pd.DataFrame(summary_df,columns=[\"Summary\"])"
   ]
  },
  {
   "cell_type": "code",
   "execution_count": 54,
   "metadata": {},
   "outputs": [
    {
     "data": {
      "text/html": [
       "<div>\n",
       "<style scoped>\n",
       "    .dataframe tbody tr th:only-of-type {\n",
       "        vertical-align: middle;\n",
       "    }\n",
       "\n",
       "    .dataframe tbody tr th {\n",
       "        vertical-align: top;\n",
       "    }\n",
       "\n",
       "    .dataframe thead th {\n",
       "        text-align: right;\n",
       "    }\n",
       "</style>\n",
       "<table border=\"1\" class=\"dataframe\">\n",
       "  <thead>\n",
       "    <tr style=\"text-align: right;\">\n",
       "      <th></th>\n",
       "      <th>Company</th>\n",
       "      <th>City</th>\n",
       "      <th>Job_Type</th>\n",
       "      <th>Industry</th>\n",
       "      <th>Avg_Salary</th>\n",
       "      <th>Job_Kind</th>\n",
       "      <th>Seniority</th>\n",
       "    </tr>\n",
       "  </thead>\n",
       "  <tbody>\n",
       "    <tr>\n",
       "      <th>0</th>\n",
       "      <td>Nesta</td>\n",
       "      <td>London</td>\n",
       "      <td>contract</td>\n",
       "      <td>Organization</td>\n",
       "      <td>30000.0</td>\n",
       "      <td>datascientist</td>\n",
       "      <td>junior_level</td>\n",
       "    </tr>\n",
       "    <tr>\n",
       "      <th>1</th>\n",
       "      <td>Pivigo Ltd</td>\n",
       "      <td>London</td>\n",
       "      <td>contract</td>\n",
       "      <td>Other</td>\n",
       "      <td>130000.0</td>\n",
       "      <td>datascientist</td>\n",
       "      <td>middle_level</td>\n",
       "    </tr>\n",
       "    <tr>\n",
       "      <th>2</th>\n",
       "      <td>CMW International</td>\n",
       "      <td>London</td>\n",
       "      <td>contract</td>\n",
       "      <td>Other</td>\n",
       "      <td>117000.0</td>\n",
       "      <td>datascientist</td>\n",
       "      <td>middle_level</td>\n",
       "    </tr>\n",
       "    <tr>\n",
       "      <th>3</th>\n",
       "      <td>J&amp;C Associates Ltd</td>\n",
       "      <td>London</td>\n",
       "      <td>contract</td>\n",
       "      <td>Other</td>\n",
       "      <td>21190.0</td>\n",
       "      <td>datascientist</td>\n",
       "      <td>middle_level</td>\n",
       "    </tr>\n",
       "    <tr>\n",
       "      <th>4</th>\n",
       "      <td>Salt Recruitment</td>\n",
       "      <td>London</td>\n",
       "      <td>contract</td>\n",
       "      <td>Consulting and Business Services</td>\n",
       "      <td>143000.0</td>\n",
       "      <td>datascientist</td>\n",
       "      <td>senior_level</td>\n",
       "    </tr>\n",
       "  </tbody>\n",
       "</table>\n",
       "</div>"
      ],
      "text/plain": [
       "              Company    City  Job_Type                          Industry  \\\n",
       "0               Nesta  London  contract                      Organization   \n",
       "1          Pivigo Ltd  London  contract                             Other   \n",
       "2   CMW International  London  contract                             Other   \n",
       "3  J&C Associates Ltd  London  contract                             Other   \n",
       "4    Salt Recruitment  London  contract  Consulting and Business Services   \n",
       "\n",
       "   Avg_Salary       Job_Kind     Seniority  \n",
       "0     30000.0  datascientist  junior_level  \n",
       "1    130000.0  datascientist  middle_level  \n",
       "2    117000.0  datascientist  middle_level  \n",
       "3     21190.0  datascientist  middle_level  \n",
       "4    143000.0  datascientist  senior_level  "
      ]
     },
     "execution_count": 54,
     "metadata": {},
     "output_type": "execute_result"
    }
   ],
   "source": [
    "final_working_jobs.head()"
   ]
  },
  {
   "cell_type": "code",
   "execution_count": 55,
   "metadata": {},
   "outputs": [
    {
     "data": {
      "text/plain": [
       "(1667, 7)"
      ]
     },
     "execution_count": 55,
     "metadata": {},
     "output_type": "execute_result"
    }
   ],
   "source": [
    "final_working_jobs.shape"
   ]
  },
  {
   "cell_type": "code",
   "execution_count": 56,
   "metadata": {},
   "outputs": [],
   "source": [
    "# Final check for duplicates\n",
    "final_working_jobs.drop_duplicates(keep=\"last\", inplace=True)"
   ]
  },
  {
   "cell_type": "code",
   "execution_count": 57,
   "metadata": {},
   "outputs": [
    {
     "data": {
      "text/plain": [
       "(1207, 7)"
      ]
     },
     "execution_count": 57,
     "metadata": {},
     "output_type": "execute_result"
    }
   ],
   "source": [
    "final_working_jobs.shape"
   ]
  },
  {
   "cell_type": "markdown",
   "metadata": {},
   "source": [
    "**Checking companies with repetaed job postings**"
   ]
  },
  {
   "cell_type": "code",
   "execution_count": 58,
   "metadata": {},
   "outputs": [
    {
     "data": {
      "text/plain": [
       "Center for Combating Extremist Ideology     103\n",
       "Hobson Prior                                 53\n",
       "STFC                                         53\n",
       "UK Government - Department for Education     46\n",
       "Harnham                                      36\n",
       "Name: Company, dtype: int64"
      ]
     },
     "execution_count": 58,
     "metadata": {},
     "output_type": "execute_result"
    }
   ],
   "source": [
    "# Checking companies with an unusual number of lot of job postings:\n",
    "final_working_jobs.Company.value_counts().head()"
   ]
  },
  {
   "cell_type": "code",
   "execution_count": 59,
   "metadata": {},
   "outputs": [
    {
     "name": "stdout",
     "output_type": "stream",
     "text": [
      "Company:Center for Combating Extremist Ideology\n",
      "Max Jobs posting reps:3\n",
      "Min Jobs posting reps:1\n",
      "\n",
      "Company:Hobson Prior\n",
      "Max Jobs posting reps:10\n",
      "Min Jobs posting reps:8\n",
      "\n",
      "Company:STFC\n",
      "Max Jobs posting reps:8\n",
      "Min Jobs posting reps:1\n",
      "\n",
      "Company:UK Government - Department for Education\n",
      "Max Jobs posting reps:10\n",
      "Min Jobs posting reps:5\n",
      "\n",
      "Company:Harnham\n",
      "Max Jobs posting reps:11\n",
      "Min Jobs posting reps:1\n",
      "\n",
      "Company:University of Derby\n",
      "Max Jobs posting reps:9\n",
      "Min Jobs posting reps:5\n",
      "\n",
      "Company:Head Resourcing Limited\n",
      "Max Jobs posting reps:7\n",
      "Min Jobs posting reps:1\n",
      "\n",
      "Company:UK Government - Office for National Statistics\n",
      "Max Jobs posting reps:15\n",
      "Min Jobs posting reps:12\n",
      "\n",
      "Company:CK Group\n",
      "Max Jobs posting reps:6\n",
      "Min Jobs posting reps:1\n",
      "\n",
      "Company:UK Government - Health and Safety Executive\n",
      "Max Jobs posting reps:5\n",
      "Min Jobs posting reps:1\n",
      "\n",
      "Company:Transport for London\n",
      "Max Jobs posting reps:4\n",
      "Min Jobs posting reps:2\n",
      "\n",
      "Company:UK Government - Defence Science and Technology Lab...\n",
      "Max Jobs posting reps:9\n",
      "Min Jobs posting reps:1\n",
      "\n",
      "Company:NERC\n",
      "Max Jobs posting reps:5\n",
      "Min Jobs posting reps:1\n",
      "\n",
      "Company:Imperial College London\n",
      "Max Jobs posting reps:8\n",
      "Min Jobs posting reps:1\n",
      "\n",
      "Company:Quantexa\n",
      "Max Jobs posting reps:3\n",
      "Min Jobs posting reps:1\n",
      "\n",
      "Company:Avantia Group\n",
      "Max Jobs posting reps:4\n",
      "Min Jobs posting reps:2\n",
      "\n",
      "Company:University of Glasgow\n",
      "Max Jobs posting reps:7\n",
      "Min Jobs posting reps:7\n",
      "\n",
      "Company:Pivigo Ltd\n",
      "Max Jobs posting reps:3\n",
      "Min Jobs posting reps:1\n",
      "\n",
      "Company:myfuturerole.com\n",
      "Max Jobs posting reps:3\n",
      "Min Jobs posting reps:1\n",
      "\n",
      "Company:Lawrence Harvey\n",
      "Max Jobs posting reps:2\n",
      "Min Jobs posting reps:1\n",
      "\n"
     ]
    }
   ],
   "source": [
    "# Checking the max and min number of repeated job postings in each one of the top 20 companies seen above\n",
    "\n",
    "weird_companies = list(final_working_jobs.Company.value_counts().iloc[0:20].index)\n",
    "weird_companies_to_remove = []\n",
    "for each in weird_companies:\n",
    "    print(\"Company:\" + each)\n",
    "    max_postings = final_working_jobs[final_working_jobs.Company==each].City.value_counts().max()\n",
    "    min_postings = final_working_jobs[final_working_jobs.Company==each].City.value_counts().min()\n",
    "    print(\"Max Jobs posting reps:\" + str(max_postings))\n",
    "    print(\"Min Jobs posting reps:\" + str(min_postings))\n",
    "    print(\"\")\n",
    "    \n",
    "    if max_postings >= 10 or min_postings >= 5:\n",
    "          weird_companies_to_remove.append(each)"
   ]
  },
  {
   "cell_type": "code",
   "execution_count": 60,
   "metadata": {},
   "outputs": [
    {
     "data": {
      "text/plain": [
       "['Hobson Prior',\n",
       " 'UK Government - Department for Education',\n",
       " 'Harnham',\n",
       " 'University of Derby',\n",
       " 'UK Government - Office for National Statistics',\n",
       " 'University of Glasgow']"
      ]
     },
     "execution_count": 60,
     "metadata": {},
     "output_type": "execute_result"
    }
   ],
   "source": [
    "# The following list was created from the above function, composed of companies to be dropped\n",
    "# since they have suspicious numbers of repetead job posts:\n",
    "\n",
    "weird_companies_to_remove"
   ]
  },
  {
   "cell_type": "code",
   "execution_count": 61,
   "metadata": {},
   "outputs": [],
   "source": [
    "# Dropping companies with a suspicious number of repeated job postings\n",
    "\n",
    "final_working_jobs = final_working_jobs[~final_working_jobs.Company.isin(weird_companies_to_remove)]\n",
    "final_working_jobs.reset_index(drop=True,inplace=True)"
   ]
  },
  {
   "cell_type": "code",
   "execution_count": 62,
   "metadata": {},
   "outputs": [
    {
     "data": {
      "text/plain": [
       "Center for Combating Extremist Ideology        103\n",
       "STFC                                            53\n",
       "Head Resourcing Limited                         29\n",
       "CK Group                                        23\n",
       "UK Government - Health and Safety Executive     20\n",
       "Name: Company, dtype: int64"
      ]
     },
     "execution_count": 62,
     "metadata": {},
     "output_type": "execute_result"
    }
   ],
   "source": [
    "# Final check on companies\n",
    "\n",
    "final_working_jobs.Company.value_counts().head()"
   ]
  },
  {
   "cell_type": "code",
   "execution_count": 63,
   "metadata": {},
   "outputs": [
    {
     "data": {
      "text/html": [
       "<div>\n",
       "<style scoped>\n",
       "    .dataframe tbody tr th:only-of-type {\n",
       "        vertical-align: middle;\n",
       "    }\n",
       "\n",
       "    .dataframe tbody tr th {\n",
       "        vertical-align: top;\n",
       "    }\n",
       "\n",
       "    .dataframe thead th {\n",
       "        text-align: right;\n",
       "    }\n",
       "</style>\n",
       "<table border=\"1\" class=\"dataframe\">\n",
       "  <thead>\n",
       "    <tr style=\"text-align: right;\">\n",
       "      <th></th>\n",
       "      <th>Company</th>\n",
       "      <th>City</th>\n",
       "      <th>Job_Type</th>\n",
       "      <th>Industry</th>\n",
       "      <th>Avg_Salary</th>\n",
       "      <th>Job_Kind</th>\n",
       "      <th>Seniority</th>\n",
       "    </tr>\n",
       "  </thead>\n",
       "  <tbody>\n",
       "    <tr>\n",
       "      <th>70</th>\n",
       "      <td>Center for Combating Extremist Ideology</td>\n",
       "      <td>London</td>\n",
       "      <td>contract</td>\n",
       "      <td>Other</td>\n",
       "      <td>55000.0</td>\n",
       "      <td>Unknown</td>\n",
       "      <td>junior_level</td>\n",
       "    </tr>\n",
       "    <tr>\n",
       "      <th>119</th>\n",
       "      <td>Center for Combating Extremist Ideology</td>\n",
       "      <td>Birmingham</td>\n",
       "      <td>contract</td>\n",
       "      <td>Other</td>\n",
       "      <td>55000.0</td>\n",
       "      <td>Unknown</td>\n",
       "      <td>middle_level</td>\n",
       "    </tr>\n",
       "    <tr>\n",
       "      <th>120</th>\n",
       "      <td>Center for Combating Extremist Ideology</td>\n",
       "      <td>Birmingham</td>\n",
       "      <td>contract</td>\n",
       "      <td>Other</td>\n",
       "      <td>55000.0</td>\n",
       "      <td>Unknown</td>\n",
       "      <td>junior_level</td>\n",
       "    </tr>\n",
       "    <tr>\n",
       "      <th>127</th>\n",
       "      <td>Center for Combating Extremist Ideology</td>\n",
       "      <td>Birmingham</td>\n",
       "      <td>fulltime</td>\n",
       "      <td>Other</td>\n",
       "      <td>55000.0</td>\n",
       "      <td>Unknown</td>\n",
       "      <td>junior_level</td>\n",
       "    </tr>\n",
       "    <tr>\n",
       "      <th>136</th>\n",
       "      <td>Center for Combating Extremist Ideology</td>\n",
       "      <td>Liverpool</td>\n",
       "      <td>contract</td>\n",
       "      <td>Other</td>\n",
       "      <td>55000.0</td>\n",
       "      <td>Unknown</td>\n",
       "      <td>middle_level</td>\n",
       "    </tr>\n",
       "  </tbody>\n",
       "</table>\n",
       "</div>"
      ],
      "text/plain": [
       "                                     Company        City  Job_Type Industry  \\\n",
       "70   Center for Combating Extremist Ideology      London  contract    Other   \n",
       "119  Center for Combating Extremist Ideology  Birmingham  contract    Other   \n",
       "120  Center for Combating Extremist Ideology  Birmingham  contract    Other   \n",
       "127  Center for Combating Extremist Ideology  Birmingham  fulltime    Other   \n",
       "136  Center for Combating Extremist Ideology   Liverpool  contract    Other   \n",
       "\n",
       "     Avg_Salary Job_Kind     Seniority  \n",
       "70      55000.0  Unknown  junior_level  \n",
       "119     55000.0  Unknown  middle_level  \n",
       "120     55000.0  Unknown  junior_level  \n",
       "127     55000.0  Unknown  junior_level  \n",
       "136     55000.0  Unknown  middle_level  "
      ]
     },
     "execution_count": 63,
     "metadata": {},
     "output_type": "execute_result"
    }
   ],
   "source": [
    "# Check on the ones with more job posts\n",
    "\n",
    "final_working_jobs[final_working_jobs.Company==\"Center for Combating Extremist Ideology\"].head()"
   ]
  },
  {
   "cell_type": "code",
   "execution_count": 64,
   "metadata": {},
   "outputs": [
    {
     "data": {
      "text/html": [
       "<div>\n",
       "<style scoped>\n",
       "    .dataframe tbody tr th:only-of-type {\n",
       "        vertical-align: middle;\n",
       "    }\n",
       "\n",
       "    .dataframe tbody tr th {\n",
       "        vertical-align: top;\n",
       "    }\n",
       "\n",
       "    .dataframe thead th {\n",
       "        text-align: right;\n",
       "    }\n",
       "</style>\n",
       "<table border=\"1\" class=\"dataframe\">\n",
       "  <thead>\n",
       "    <tr style=\"text-align: right;\">\n",
       "      <th></th>\n",
       "      <th>Company</th>\n",
       "      <th>City</th>\n",
       "      <th>Job_Type</th>\n",
       "      <th>Industry</th>\n",
       "      <th>Avg_Salary</th>\n",
       "      <th>Job_Kind</th>\n",
       "      <th>Seniority</th>\n",
       "    </tr>\n",
       "  </thead>\n",
       "  <tbody>\n",
       "    <tr>\n",
       "      <th>145</th>\n",
       "      <td>STFC</td>\n",
       "      <td>Liverpool</td>\n",
       "      <td>fulltime</td>\n",
       "      <td>Other</td>\n",
       "      <td>40447.0</td>\n",
       "      <td>datascientist</td>\n",
       "      <td>middle_level</td>\n",
       "    </tr>\n",
       "    <tr>\n",
       "      <th>147</th>\n",
       "      <td>STFC</td>\n",
       "      <td>Liverpool</td>\n",
       "      <td>fulltime</td>\n",
       "      <td>Other</td>\n",
       "      <td>37679.0</td>\n",
       "      <td>datascientist</td>\n",
       "      <td>middle_level</td>\n",
       "    </tr>\n",
       "    <tr>\n",
       "      <th>149</th>\n",
       "      <td>STFC</td>\n",
       "      <td>Liverpool</td>\n",
       "      <td>fulltime</td>\n",
       "      <td>Other</td>\n",
       "      <td>36679.0</td>\n",
       "      <td>datascientist</td>\n",
       "      <td>middle_level</td>\n",
       "    </tr>\n",
       "    <tr>\n",
       "      <th>151</th>\n",
       "      <td>STFC</td>\n",
       "      <td>Liverpool</td>\n",
       "      <td>fulltime</td>\n",
       "      <td>Other</td>\n",
       "      <td>32120.5</td>\n",
       "      <td>softwareengineer</td>\n",
       "      <td>middle_level</td>\n",
       "    </tr>\n",
       "    <tr>\n",
       "      <th>152</th>\n",
       "      <td>STFC</td>\n",
       "      <td>Liverpool</td>\n",
       "      <td>fulltime</td>\n",
       "      <td>Other</td>\n",
       "      <td>36679.0</td>\n",
       "      <td>Unknown</td>\n",
       "      <td>middle_level</td>\n",
       "    </tr>\n",
       "  </tbody>\n",
       "</table>\n",
       "</div>"
      ],
      "text/plain": [
       "    Company       City  Job_Type Industry  Avg_Salary          Job_Kind  \\\n",
       "145    STFC  Liverpool  fulltime    Other     40447.0     datascientist   \n",
       "147    STFC  Liverpool  fulltime    Other     37679.0     datascientist   \n",
       "149    STFC  Liverpool  fulltime    Other     36679.0     datascientist   \n",
       "151    STFC  Liverpool  fulltime    Other     32120.5  softwareengineer   \n",
       "152    STFC  Liverpool  fulltime    Other     36679.0           Unknown   \n",
       "\n",
       "        Seniority  \n",
       "145  middle_level  \n",
       "147  middle_level  \n",
       "149  middle_level  \n",
       "151  middle_level  \n",
       "152  middle_level  "
      ]
     },
     "execution_count": 64,
     "metadata": {},
     "output_type": "execute_result"
    }
   ],
   "source": [
    "# STFC doesn't seem to have anything rare, since it has multiple job kinds and average salary for its publications:\n",
    "\n",
    "final_working_jobs[final_working_jobs.Company==\"STFC\"].head()"
   ]
  },
  {
   "cell_type": "code",
   "execution_count": 65,
   "metadata": {},
   "outputs": [],
   "source": [
    "# Removing \"Center for Combating Extremist Ideology\" because of suspicious post jobs\n",
    "\n",
    "final_working_jobs = final_working_jobs[final_working_jobs.Company!=\"Center for Combating Extremist Ideology\"]\n",
    "final_working_jobs.reset_index(drop=True,inplace=True)"
   ]
  },
  {
   "cell_type": "code",
   "execution_count": 66,
   "metadata": {},
   "outputs": [
    {
     "data": {
      "text/plain": [
       "(898, 7)"
      ]
     },
     "execution_count": 66,
     "metadata": {},
     "output_type": "execute_result"
    }
   ],
   "source": [
    "final_working_jobs.shape"
   ]
  },
  {
   "cell_type": "code",
   "execution_count": 67,
   "metadata": {},
   "outputs": [],
   "source": [
    "# Creating a list with the index of the rows removed, to dropped them from the summary_df\n",
    "\n",
    "removed_index = []\n",
    "for x in summary_df.index:\n",
    "    if x not in final_working_jobs.index:\n",
    "        removed_index.append(x)"
   ]
  },
  {
   "cell_type": "markdown",
   "metadata": {},
   "source": [
    "**Vectorizing summary**"
   ]
  },
  {
   "cell_type": "code",
   "execution_count": 68,
   "metadata": {},
   "outputs": [],
   "source": [
    "# Removing rows droped from previous DataFrame\n",
    "\n",
    "summary_df = summary_df[~summary_df.index.isin(removed_index)]\n",
    "summary_df.reset_index(drop=True,inplace=True)"
   ]
  },
  {
   "cell_type": "code",
   "execution_count": 69,
   "metadata": {},
   "outputs": [
    {
     "data": {
      "text/plain": [
       "TfidfVectorizer(analyzer='word', binary=False, decode_error='strict',\n",
       "        dtype=<class 'numpy.float64'>, encoding='utf-8', input='content',\n",
       "        lowercase=True, max_df=1.0, max_features=None, min_df=1,\n",
       "        ngram_range=(1, 1), norm='l2', preprocessor=None, smooth_idf=True,\n",
       "        stop_words='english', strip_accents=None, sublinear_tf=False,\n",
       "        token_pattern='(?u)\\\\b\\\\w\\\\w+\\\\b', tokenizer=None, use_idf=True,\n",
       "        vocabulary=None)"
      ]
     },
     "execution_count": 69,
     "metadata": {},
     "output_type": "execute_result"
    }
   ],
   "source": [
    "from sklearn.feature_extraction.text import TfidfVectorizer\n",
    "\n",
    "tvec = TfidfVectorizer(stop_words='english')\n",
    "tvec.fit(summary_df.Summary)"
   ]
  },
  {
   "cell_type": "code",
   "execution_count": 70,
   "metadata": {},
   "outputs": [],
   "source": [
    "tvec_mat = pd.DataFrame(np.round(tvec.fit_transform(summary_df.Summary).toarray(),3),columns=tvec.get_feature_names())"
   ]
  },
  {
   "cell_type": "code",
   "execution_count": 71,
   "metadata": {},
   "outputs": [
    {
     "data": {
      "text/html": [
       "<div>\n",
       "<style scoped>\n",
       "    .dataframe tbody tr th:only-of-type {\n",
       "        vertical-align: middle;\n",
       "    }\n",
       "\n",
       "    .dataframe tbody tr th {\n",
       "        vertical-align: top;\n",
       "    }\n",
       "\n",
       "    .dataframe thead th {\n",
       "        text-align: right;\n",
       "    }\n",
       "</style>\n",
       "<table border=\"1\" class=\"dataframe\">\n",
       "  <thead>\n",
       "    <tr style=\"text-align: right;\">\n",
       "      <th></th>\n",
       "      <th>Sum</th>\n",
       "    </tr>\n",
       "  </thead>\n",
       "  <tbody>\n",
       "    <tr>\n",
       "      <th>data</th>\n",
       "      <td>114.486</td>\n",
       "    </tr>\n",
       "    <tr>\n",
       "      <th>scientist</th>\n",
       "      <td>43.474</td>\n",
       "    </tr>\n",
       "    <tr>\n",
       "      <th>science</th>\n",
       "      <td>41.059</td>\n",
       "    </tr>\n",
       "    <tr>\n",
       "      <th>using</th>\n",
       "      <td>34.912</td>\n",
       "    </tr>\n",
       "    <tr>\n",
       "      <th>research</th>\n",
       "      <td>34.315</td>\n",
       "    </tr>\n",
       "    <tr>\n",
       "      <th>development</th>\n",
       "      <td>33.777</td>\n",
       "    </tr>\n",
       "    <tr>\n",
       "      <th>leading</th>\n",
       "      <td>32.141</td>\n",
       "    </tr>\n",
       "    <tr>\n",
       "      <th>assist</th>\n",
       "      <td>32.103</td>\n",
       "    </tr>\n",
       "    <tr>\n",
       "      <th>activities</th>\n",
       "      <td>31.382</td>\n",
       "    </tr>\n",
       "    <tr>\n",
       "      <th>conducting</th>\n",
       "      <td>31.247</td>\n",
       "    </tr>\n",
       "  </tbody>\n",
       "</table>\n",
       "</div>"
      ],
      "text/plain": [
       "                 Sum\n",
       "data         114.486\n",
       "scientist     43.474\n",
       "science       41.059\n",
       "using         34.912\n",
       "research      34.315\n",
       "development   33.777\n",
       "leading       32.141\n",
       "assist        32.103\n",
       "activities    31.382\n",
       "conducting    31.247"
      ]
     },
     "execution_count": 71,
     "metadata": {},
     "output_type": "execute_result"
    }
   ],
   "source": [
    "word_importance = []\n",
    "for each in tvec_mat.columns:\n",
    "    word_importance.append(tvec_mat[each].sum())\n",
    "    \n",
    "pd.DataFrame(word_importance,columns=[\"Sum\"],index=tvec_mat.columns).sort_values(\"Sum\",ascending=False).head(10)"
   ]
  },
  {
   "cell_type": "code",
   "execution_count": 72,
   "metadata": {},
   "outputs": [
    {
     "data": {
      "text/plain": [
       "(898, 1400)"
      ]
     },
     "execution_count": 72,
     "metadata": {},
     "output_type": "execute_result"
    }
   ],
   "source": [
    "tvec_mat.shape"
   ]
  },
  {
   "cell_type": "markdown",
   "metadata": {
    "focus": false,
    "id": "43e71edd-210e-42b1-9336-70a931f048af"
   },
   "source": [
    "### Save your results as a CSV"
   ]
  },
  {
   "cell_type": "code",
   "execution_count": 73,
   "metadata": {
    "focus": false,
    "id": "783fd153-28ac-47ab-bfca-27e7c1de95b4"
   },
   "outputs": [],
   "source": [
    "final_working_jobs.to_csv(r'/Users/gonzaloferreiro/Documents/GA_Materials/DS_Inmersive/DSI8-lessons/projects/project-4/final_working_jobs.csv',\n",
    "                 index=False)"
   ]
  },
  {
   "cell_type": "code",
   "execution_count": 74,
   "metadata": {},
   "outputs": [],
   "source": [
    "tvec_mat.to_csv(r'/Users/gonzaloferreiro/Documents/GA_Materials/DS_Inmersive/DSI8-lessons/projects/project-4/tvec_mat.csv',\n",
    "                 index=False)"
   ]
  },
  {
   "cell_type": "markdown",
   "metadata": {
    "focus": false,
    "id": "04563b69-f7b6-466f-9d65-fc62c9ddee6a"
   },
   "source": [
    "## QUESTION 2: Factors that distinguish job category\n",
    "\n",
    "Using the job postings you scraped for part 1 (or potentially new job postings from a second round of scraping), identify features in the data related to job postings that can distinguish job titles from each other. There are a variety of interesting ways you can frame the target variable, for example:\n",
    "- What components of a job posting distinguish data scientists from other data jobs?\n",
    "- What features are important for distinguishing junior vs. senior positions?\n",
    "- Do the requirements for titles vary significantly with industry (e.g. healthcare vs. government)?\n",
    "\n",
    "You may end up making multiple classification models to tackle different questions. Be sure to clearly explain your hypotheses and framing, any feature engineering, and what your target variables are. The type of classification model you choose is up to you. Be sure to interpret your results and evaluate your model's performance."
   ]
  },
  {
   "cell_type": "markdown",
   "metadata": {
    "focus": false,
    "id": "243e949e-2742-40af-872e-fec475fd306c"
   },
   "source": [
    "#### Load in the the data of scraped salaries"
   ]
  },
  {
   "cell_type": "code",
   "execution_count": 2,
   "metadata": {
    "focus": false,
    "id": "588f9845-6143-4bcc-bfd1-85d45b79303d"
   },
   "outputs": [],
   "source": [
    "base_df = pd.read_csv('/Users/gonzaloferreiro/Documents/GA_Materials/DS_Inmersive/DSI8-lessons/projects/project-4/final_working_jobs.csv')"
   ]
  },
  {
   "cell_type": "code",
   "execution_count": 3,
   "metadata": {},
   "outputs": [
    {
     "data": {
      "text/html": [
       "<div>\n",
       "<style scoped>\n",
       "    .dataframe tbody tr th:only-of-type {\n",
       "        vertical-align: middle;\n",
       "    }\n",
       "\n",
       "    .dataframe tbody tr th {\n",
       "        vertical-align: top;\n",
       "    }\n",
       "\n",
       "    .dataframe thead th {\n",
       "        text-align: right;\n",
       "    }\n",
       "</style>\n",
       "<table border=\"1\" class=\"dataframe\">\n",
       "  <thead>\n",
       "    <tr style=\"text-align: right;\">\n",
       "      <th></th>\n",
       "      <th>Company</th>\n",
       "      <th>City</th>\n",
       "      <th>Job_Type</th>\n",
       "      <th>Industry</th>\n",
       "      <th>Avg_Salary</th>\n",
       "      <th>Job_Kind</th>\n",
       "      <th>Seniority</th>\n",
       "    </tr>\n",
       "  </thead>\n",
       "  <tbody>\n",
       "    <tr>\n",
       "      <th>0</th>\n",
       "      <td>Nesta</td>\n",
       "      <td>London</td>\n",
       "      <td>contract</td>\n",
       "      <td>Organization</td>\n",
       "      <td>30000.0</td>\n",
       "      <td>datascientist</td>\n",
       "      <td>junior_level</td>\n",
       "    </tr>\n",
       "    <tr>\n",
       "      <th>1</th>\n",
       "      <td>Pivigo Ltd</td>\n",
       "      <td>London</td>\n",
       "      <td>contract</td>\n",
       "      <td>Other</td>\n",
       "      <td>130000.0</td>\n",
       "      <td>datascientist</td>\n",
       "      <td>middle_level</td>\n",
       "    </tr>\n",
       "    <tr>\n",
       "      <th>2</th>\n",
       "      <td>CMW International</td>\n",
       "      <td>London</td>\n",
       "      <td>contract</td>\n",
       "      <td>Other</td>\n",
       "      <td>117000.0</td>\n",
       "      <td>datascientist</td>\n",
       "      <td>middle_level</td>\n",
       "    </tr>\n",
       "    <tr>\n",
       "      <th>3</th>\n",
       "      <td>J&amp;C Associates Ltd</td>\n",
       "      <td>London</td>\n",
       "      <td>contract</td>\n",
       "      <td>Other</td>\n",
       "      <td>21190.0</td>\n",
       "      <td>datascientist</td>\n",
       "      <td>middle_level</td>\n",
       "    </tr>\n",
       "    <tr>\n",
       "      <th>4</th>\n",
       "      <td>Salt Recruitment</td>\n",
       "      <td>London</td>\n",
       "      <td>contract</td>\n",
       "      <td>Consulting and Business Services</td>\n",
       "      <td>143000.0</td>\n",
       "      <td>datascientist</td>\n",
       "      <td>senior_level</td>\n",
       "    </tr>\n",
       "  </tbody>\n",
       "</table>\n",
       "</div>"
      ],
      "text/plain": [
       "              Company    City  Job_Type                          Industry  \\\n",
       "0               Nesta  London  contract                      Organization   \n",
       "1          Pivigo Ltd  London  contract                             Other   \n",
       "2   CMW International  London  contract                             Other   \n",
       "3  J&C Associates Ltd  London  contract                             Other   \n",
       "4    Salt Recruitment  London  contract  Consulting and Business Services   \n",
       "\n",
       "   Avg_Salary       Job_Kind     Seniority  \n",
       "0     30000.0  datascientist  junior_level  \n",
       "1    130000.0  datascientist  middle_level  \n",
       "2    117000.0  datascientist  middle_level  \n",
       "3     21190.0  datascientist  middle_level  \n",
       "4    143000.0  datascientist  senior_level  "
      ]
     },
     "execution_count": 3,
     "metadata": {},
     "output_type": "execute_result"
    }
   ],
   "source": [
    "base_df.head()"
   ]
  },
  {
   "cell_type": "markdown",
   "metadata": {
    "focus": false,
    "id": "c7631f51-07f2-4c79-a093-3e9bc7849a48"
   },
   "source": [
    "#### We want to predict a binary variable - whether the salary was low or high. Compute the median salary and create a new binary variable that is true when the salary is high (above the median).\n",
    "\n",
    "We could also perform Linear Regression (or any regression) to predict the salary value here. Instead, we are going to convert this into a _binary_ classification problem, by predicting two classes, HIGH vs LOW salary.\n",
    "\n",
    "While performing regression may be better, performing classification may help remove some of the noise of the extreme salaries. We don't have to choose the `median` as the splitting point - we could also split on the 75th percentile or any other reasonable breaking point.\n",
    "\n",
    "In fact, the ideal scenario may be to predict many levels of salaries."
   ]
  },
  {
   "cell_type": "code",
   "execution_count": 4,
   "metadata": {
    "focus": false,
    "id": "c20d2498-151c-44c3-a453-3a333c79a0ac"
   },
   "outputs": [],
   "source": [
    "base_df[\"Salary_Q\"] = [\"A\" if salary < int(base_df.Avg_Salary.quantile(0.25)) else \n",
    "                  \"B\" if salary < int(base_df.Avg_Salary.quantile(0.50)) else \n",
    "                  \"C\" if salary < int(base_df.Avg_Salary.quantile(0.75)) else \"D\"\n",
    "                  for salary in base_df.Avg_Salary]"
   ]
  },
  {
   "cell_type": "markdown",
   "metadata": {
    "focus": false,
    "id": "a7afb2c0-d41e-4779-8216-91cd8dd4473f"
   },
   "source": [
    "#### Thought experiment: What is the baseline accuracy for this model?"
   ]
  },
  {
   "cell_type": "code",
   "execution_count": 5,
   "metadata": {},
   "outputs": [
    {
     "data": {
      "text/plain": [
       "B    243\n",
       "D    229\n",
       "C    221\n",
       "A    205\n",
       "Name: Salary_Q, dtype: int64"
      ]
     },
     "execution_count": 5,
     "metadata": {},
     "output_type": "execute_result"
    }
   ],
   "source": [
    "base_df.Salary_Q.value_counts()"
   ]
  },
  {
   "cell_type": "code",
   "execution_count": 6,
   "metadata": {
    "focus": false,
    "id": "87a17d3d-b7f4-4747-9f75-f9af1d18a174"
   },
   "outputs": [
    {
     "data": {
      "text/plain": [
       "B    0.270601\n",
       "Name: Salary_Q, dtype: float64"
      ]
     },
     "execution_count": 6,
     "metadata": {},
     "output_type": "execute_result"
    }
   ],
   "source": [
    "# The baseline accuracy for this model is the probability of predicting\n",
    "# Category B, which is the predominant category:\n",
    "\n",
    "base_df[base_df.Salary_Q==\"B\"].Salary_Q.value_counts()/base_df.Salary_Q.value_counts().sum()"
   ]
  },
  {
   "cell_type": "code",
   "execution_count": 7,
   "metadata": {},
   "outputs": [],
   "source": [
    "y = base_df.pop(\"Salary_Q\")"
   ]
  },
  {
   "cell_type": "markdown",
   "metadata": {
    "focus": false,
    "id": "4fb29de2-5b98-474c-a4ad-5170b72b9aea"
   },
   "source": [
    "### Create a classification model to predict High/Low salary. \n",
    "\n",
    "\n",
    "#### Model based on location:\n",
    "\n",
    "- Start by ONLY using the location as a feature. [DONE]\n",
    "- Use logistic regression with both statsmodels and sklearn. [DONE]\n",
    "- Use a further classifier you find suitable. [DONE]\n",
    "- Remember that scaling your features might be necessary. [DONE]\n",
    "- Display the coefficients/feature importances and write a short summary of what they mean. [DONE]\n",
    "\n",
    "#### Model taking into account job levels and categories:\n",
    "\n",
    "- Create a few new variables in your dataframe to represent interesting features of a job title. [DONE]\n",
    "- For example, create a feature that represents whether 'Senior' is in the title or whether 'Manager' is in the title. [DONE]\n",
    "- Incorporate other text features from the title or summary that you believe will predict the salary. [DONE]\n",
    "- Then build new classification models including also those features. Do they add any value? [DONE]\n",
    "- Tune your models by testing parameter ranges, regularization strengths, etc. Discuss how that affects your models. [DONE] \n",
    "- Discuss model coefficients or feature importances as applicable. [DONE]\n",
    "\n",
    "#### Model evaluation: \n",
    "**[THIS IS GOING TO BE ANSWERED LATER WITH THE BONUS QUESTION]**\n",
    "\n",
    "Your boss would rather tell a client incorrectly that they would get a lower salary job than tell a client incorrectly that they would get a high salary job. Adjust one of your models to ease his mind, and explain what it is doing and any tradeoffs. "
   ]
  },
  {
   "cell_type": "code",
   "execution_count": 8,
   "metadata": {},
   "outputs": [],
   "source": [
    "from sklearn.metrics import classification_report, confusion_matrix, accuracy_score\n",
    "from sklearn.model_selection import train_test_split, GridSearchCV, cross_val_score\n",
    "from sklearn.linear_model import LogisticRegression, LogisticRegressionCV\n",
    "from sklearn.preprocessing import StandardScaler\n",
    "scaler = StandardScaler()\n",
    "from sklearn.metrics import accuracy_score\n",
    "from sklearn.neighbors import KNeighborsClassifier\n",
    "from sklearn.ensemble import BaggingClassifier\n",
    "from sklearn.ensemble import AdaBoostClassifier, GradientBoostingClassifier\n",
    "from sklearn.tree import DecisionTreeClassifier\n",
    "import seaborn as sns\n",
    "from scipy import sparse"
   ]
  },
  {
   "cell_type": "markdown",
   "metadata": {},
   "source": [
    "### Fitting a BINARY model only based on location, in order to compare sklearn and statsmodel"
   ]
  },
  {
   "cell_type": "markdown",
   "metadata": {},
   "source": [
    "**Setting up variables**"
   ]
  },
  {
   "cell_type": "code",
   "execution_count": 9,
   "metadata": {
    "focus": false,
    "id": "c20d2498-151c-44c3-a453-3a333c79a0ac"
   },
   "outputs": [],
   "source": [
    "base_df[\"Salary_Q\"] = [0 if salary < int(base_df.Avg_Salary.quantile(0.50)) else 1\n",
    "                  for salary in base_df.Avg_Salary]"
   ]
  },
  {
   "cell_type": "code",
   "execution_count": 10,
   "metadata": {},
   "outputs": [],
   "source": [
    "yl = base_df.pop(\"Salary_Q\")"
   ]
  },
  {
   "cell_type": "code",
   "execution_count": 11,
   "metadata": {},
   "outputs": [],
   "source": [
    "cities_dum_df = pd.get_dummies(base_df.City,drop_first=True)"
   ]
  },
  {
   "cell_type": "code",
   "execution_count": 12,
   "metadata": {},
   "outputs": [],
   "source": [
    "X_train, X_test, y_train, y_test = train_test_split(\n",
    "    cities_dum_df, yl.astype(str), test_size=0.3, stratify=y, random_state=123)"
   ]
  },
  {
   "cell_type": "markdown",
   "metadata": {},
   "source": [
    "**Statsmodel version**"
   ]
  },
  {
   "cell_type": "code",
   "execution_count": 13,
   "metadata": {},
   "outputs": [],
   "source": [
    "import statsmodels.formula.api as sm"
   ]
  },
  {
   "cell_type": "code",
   "execution_count": 14,
   "metadata": {},
   "outputs": [
    {
     "name": "stderr",
     "output_type": "stream",
     "text": [
      "/Users/gonzaloferreiro/anaconda3/lib/python3.6/site-packages/statsmodels/base/model.py:488: HessianInversionWarning: Inverting hessian failed, no bse or cov_params available\n",
      "  'available', HessianInversionWarning)\n"
     ]
    }
   ],
   "source": [
    "X_i = X_train.copy()\n",
    "\n",
    "stats_model = sm.Logit(y_train.astype(float), X_i.astype(float)).fit(method='lbfgs',maxiter=500)"
   ]
  },
  {
   "cell_type": "code",
   "execution_count": 15,
   "metadata": {},
   "outputs": [],
   "source": [
    "trainpred = stats_model.predict(X_train)\n",
    "trainpred = (trainpred > .5)*1"
   ]
  },
  {
   "cell_type": "code",
   "execution_count": 16,
   "metadata": {},
   "outputs": [],
   "source": [
    "testpred = stats_model.predict(X_test)\n",
    "testpred = (testpred > .5)*1"
   ]
  },
  {
   "cell_type": "code",
   "execution_count": 17,
   "metadata": {},
   "outputs": [
    {
     "name": "stdout",
     "output_type": "stream",
     "text": [
      "0.6003184713375797\n"
     ]
    }
   ],
   "source": [
    "print(accuracy_score(y_test.astype(int),testpred))"
   ]
  },
  {
   "cell_type": "markdown",
   "metadata": {},
   "source": [
    "**Sklearn version**"
   ]
  },
  {
   "cell_type": "code",
   "execution_count": 18,
   "metadata": {},
   "outputs": [
    {
     "name": "stderr",
     "output_type": "stream",
     "text": [
      "/Users/gonzaloferreiro/anaconda3/lib/python3.6/site-packages/sklearn/preprocessing/data.py:625: DataConversionWarning: Data with input dtype uint8 were all converted to float64 by StandardScaler.\n",
      "  return self.partial_fit(X, y)\n",
      "/Users/gonzaloferreiro/anaconda3/lib/python3.6/site-packages/ipykernel_launcher.py:3: DataConversionWarning: Data with input dtype uint8 were all converted to float64 by StandardScaler.\n",
      "  This is separate from the ipykernel package so we can avoid doing imports until\n",
      "/Users/gonzaloferreiro/anaconda3/lib/python3.6/site-packages/ipykernel_launcher.py:4: DataConversionWarning: Data with input dtype uint8 were all converted to float64 by StandardScaler.\n",
      "  after removing the cwd from sys.path.\n"
     ]
    }
   ],
   "source": [
    "scaler = StandardScaler()\n",
    "scaler.fit(X_train)\n",
    "X_train_std = scaler.transform(X_train)\n",
    "X_test_std = scaler.transform(X_test)"
   ]
  },
  {
   "cell_type": "code",
   "execution_count": 19,
   "metadata": {},
   "outputs": [],
   "source": [
    "model = LogisticRegressionCV(max_iter = 500)"
   ]
  },
  {
   "cell_type": "code",
   "execution_count": 20,
   "metadata": {},
   "outputs": [],
   "source": [
    "params = {'penalty': ['l2'],\n",
    "          'solver': ['lbfgs'],\n",
    "          'Cs': [np.logspace(-2.5, 2.5, 10)],\n",
    "          'multi_class': ['ovr'],\n",
    "}"
   ]
  },
  {
   "cell_type": "code",
   "execution_count": 21,
   "metadata": {},
   "outputs": [],
   "source": [
    "city_gd = GridSearchCV(model, params, cv=5, n_jobs=-1)"
   ]
  },
  {
   "cell_type": "code",
   "execution_count": 22,
   "metadata": {},
   "outputs": [
    {
     "name": "stderr",
     "output_type": "stream",
     "text": [
      "/Users/gonzaloferreiro/anaconda3/lib/python3.6/site-packages/sklearn/model_selection/_split.py:2053: FutureWarning: You should specify a value for 'cv' instead of relying on the default value. The default value will change from 3 to 5 in version 0.22.\n",
      "  warnings.warn(CV_WARNING, FutureWarning)\n"
     ]
    },
    {
     "data": {
      "text/plain": [
       "GridSearchCV(cv=5, error_score='raise-deprecating',\n",
       "       estimator=LogisticRegressionCV(Cs=10, class_weight=None, cv='warn', dual=False,\n",
       "           fit_intercept=True, intercept_scaling=1.0, max_iter=500,\n",
       "           multi_class='warn', n_jobs=None, penalty='l2',\n",
       "           random_state=None, refit=True, scoring=None, solver='lbfgs',\n",
       "           tol=0.0001, verbose=0),\n",
       "       fit_params=None, iid='warn', n_jobs=-1,\n",
       "       param_grid={'penalty': ['l2'], 'solver': ['lbfgs'], 'Cs': [array([3.16228e-03, 1.13646e-02, 4.08424e-02, 1.46780e-01, 5.27500e-01,\n",
       "       1.89574e+00, 6.81292e+00, 2.44844e+01, 8.79923e+01, 3.16228e+02])], 'multi_class': ['ovr']},\n",
       "       pre_dispatch='2*n_jobs', refit=True, return_train_score='warn',\n",
       "       scoring=None, verbose=0)"
      ]
     },
     "execution_count": 22,
     "metadata": {},
     "output_type": "execute_result"
    }
   ],
   "source": [
    "city_gd.fit(X_train,y_train)"
   ]
  },
  {
   "cell_type": "code",
   "execution_count": 23,
   "metadata": {},
   "outputs": [
    {
     "data": {
      "text/plain": [
       "0.6146496815286624"
      ]
     },
     "execution_count": 23,
     "metadata": {},
     "output_type": "execute_result"
    }
   ],
   "source": [
    "city_gd.score(X_test,y_test)"
   ]
  },
  {
   "cell_type": "markdown",
   "metadata": {},
   "source": [
    "**Using another classifier**"
   ]
  },
  {
   "cell_type": "code",
   "execution_count": 382,
   "metadata": {},
   "outputs": [
    {
     "data": {
      "text/plain": [
       "(270, 48)"
      ]
     },
     "execution_count": 382,
     "metadata": {},
     "output_type": "execute_result"
    }
   ],
   "source": [
    "X_train.shape"
   ]
  },
  {
   "cell_type": "code",
   "execution_count": 384,
   "metadata": {},
   "outputs": [],
   "source": [
    "binary_model_2 = DecisionTreeClassifier(max_depth = 100, max_features = 0.8)"
   ]
  },
  {
   "cell_type": "code",
   "execution_count": 386,
   "metadata": {},
   "outputs": [],
   "source": [
    "boosting_binary = AdaBoostClassifier(base_estimator = binary_model_2, n_estimators = 500, random_state=123)"
   ]
  },
  {
   "cell_type": "code",
   "execution_count": 387,
   "metadata": {},
   "outputs": [
    {
     "data": {
      "text/plain": [
       "AdaBoostClassifier(algorithm='SAMME.R',\n",
       "          base_estimator=DecisionTreeClassifier(class_weight=None, criterion='gini', max_depth=100,\n",
       "            max_features=0.8, max_leaf_nodes=None,\n",
       "            min_impurity_decrease=0.0, min_impurity_split=None,\n",
       "            min_samples_leaf=1, min_samples_split=2,\n",
       "            min_weight_fraction_leaf=0.0, presort=False, random_state=None,\n",
       "            splitter='best'),\n",
       "          learning_rate=1.0, n_estimators=500, random_state=123)"
      ]
     },
     "execution_count": 387,
     "metadata": {},
     "output_type": "execute_result"
    }
   ],
   "source": [
    "boosting_binary.fit(X_train,y_train)"
   ]
  },
  {
   "cell_type": "code",
   "execution_count": 389,
   "metadata": {},
   "outputs": [
    {
     "data": {
      "text/plain": [
       "0.6003184713375797"
      ]
     },
     "execution_count": 389,
     "metadata": {},
     "output_type": "execute_result"
    }
   ],
   "source": [
    "boosting_binary.score(X_test,y_test)"
   ]
  },
  {
   "cell_type": "markdown",
   "metadata": {},
   "source": [
    "**Feature importance**"
   ]
  },
  {
   "cell_type": "code",
   "execution_count": 24,
   "metadata": {},
   "outputs": [
    {
     "data": {
      "text/html": [
       "<div>\n",
       "<style scoped>\n",
       "    .dataframe tbody tr th:only-of-type {\n",
       "        vertical-align: middle;\n",
       "    }\n",
       "\n",
       "    .dataframe tbody tr th {\n",
       "        vertical-align: top;\n",
       "    }\n",
       "\n",
       "    .dataframe thead th {\n",
       "        text-align: right;\n",
       "    }\n",
       "</style>\n",
       "<table border=\"1\" class=\"dataframe\">\n",
       "  <thead>\n",
       "    <tr style=\"text-align: right;\">\n",
       "      <th></th>\n",
       "      <th>feature</th>\n",
       "      <th>coef</th>\n",
       "      <th>abs_coef</th>\n",
       "    </tr>\n",
       "  </thead>\n",
       "  <tbody>\n",
       "    <tr>\n",
       "      <th>0</th>\n",
       "      <td>Bangor</td>\n",
       "      <td>0.021362</td>\n",
       "      <td>0.021362</td>\n",
       "    </tr>\n",
       "    <tr>\n",
       "      <th>1</th>\n",
       "      <td>Basingstoke</td>\n",
       "      <td>-0.016902</td>\n",
       "      <td>0.016902</td>\n",
       "    </tr>\n",
       "    <tr>\n",
       "      <th>2</th>\n",
       "      <td>Belfast</td>\n",
       "      <td>-0.038985</td>\n",
       "      <td>0.038985</td>\n",
       "    </tr>\n",
       "    <tr>\n",
       "      <th>3</th>\n",
       "      <td>Birmingham</td>\n",
       "      <td>0.041284</td>\n",
       "      <td>0.041284</td>\n",
       "    </tr>\n",
       "    <tr>\n",
       "      <th>4</th>\n",
       "      <td>Blackburn</td>\n",
       "      <td>-0.038985</td>\n",
       "      <td>0.038985</td>\n",
       "    </tr>\n",
       "  </tbody>\n",
       "</table>\n",
       "</div>"
      ],
      "text/plain": [
       "       feature      coef  abs_coef\n",
       "0       Bangor  0.021362  0.021362\n",
       "1  Basingstoke -0.016902  0.016902\n",
       "2      Belfast -0.038985  0.038985\n",
       "3   Birmingham  0.041284  0.041284\n",
       "4    Blackburn -0.038985  0.038985"
      ]
     },
     "execution_count": 24,
     "metadata": {},
     "output_type": "execute_result"
    }
   ],
   "source": [
    "# create a dataframe to look at the coefficients\n",
    "coef_df = pd.DataFrame({'feature': X_train.columns,\n",
    "                        'coef': city_gd.best_estimator_.coef_[0],\n",
    "                        'abs_coef': np.abs(city_gd.best_estimator_.coef_[0])})\n",
    "\n",
    "coef_df.head()"
   ]
  },
  {
   "cell_type": "code",
   "execution_count": 25,
   "metadata": {},
   "outputs": [
    {
     "data": {
      "text/html": [
       "<div>\n",
       "<style scoped>\n",
       "    .dataframe tbody tr th:only-of-type {\n",
       "        vertical-align: middle;\n",
       "    }\n",
       "\n",
       "    .dataframe tbody tr th {\n",
       "        vertical-align: top;\n",
       "    }\n",
       "\n",
       "    .dataframe thead th {\n",
       "        text-align: right;\n",
       "    }\n",
       "</style>\n",
       "<table border=\"1\" class=\"dataframe\">\n",
       "  <thead>\n",
       "    <tr style=\"text-align: right;\">\n",
       "      <th></th>\n",
       "      <th>feature</th>\n",
       "      <th>coef</th>\n",
       "      <th>abs_coef</th>\n",
       "    </tr>\n",
       "  </thead>\n",
       "  <tbody>\n",
       "    <tr>\n",
       "      <th>0</th>\n",
       "      <td>London</td>\n",
       "      <td>0.351387</td>\n",
       "      <td>0.351387</td>\n",
       "    </tr>\n",
       "    <tr>\n",
       "      <th>1</th>\n",
       "      <td>Croydon</td>\n",
       "      <td>0.106866</td>\n",
       "      <td>0.106866</td>\n",
       "    </tr>\n",
       "    <tr>\n",
       "      <th>2</th>\n",
       "      <td>Southampton</td>\n",
       "      <td>-0.091840</td>\n",
       "      <td>0.091840</td>\n",
       "    </tr>\n",
       "    <tr>\n",
       "      <th>3</th>\n",
       "      <td>Wakefield</td>\n",
       "      <td>0.080524</td>\n",
       "      <td>0.080524</td>\n",
       "    </tr>\n",
       "    <tr>\n",
       "      <th>4</th>\n",
       "      <td>York</td>\n",
       "      <td>0.060991</td>\n",
       "      <td>0.060991</td>\n",
       "    </tr>\n",
       "  </tbody>\n",
       "</table>\n",
       "</div>"
      ],
      "text/plain": [
       "       feature      coef  abs_coef\n",
       "0       London  0.351387  0.351387\n",
       "1      Croydon  0.106866  0.106866\n",
       "2  Southampton -0.091840  0.091840\n",
       "3    Wakefield  0.080524  0.080524\n",
       "4         York  0.060991  0.060991"
      ]
     },
     "execution_count": 25,
     "metadata": {},
     "output_type": "execute_result"
    }
   ],
   "source": [
    "# sort by absolute value of coefficient (magnitude)\n",
    "coef_df.sort_values('abs_coef', ascending=False, inplace=True)\n",
    "coef_df.reset_index(drop=True,inplace=True)\n",
    "coef_df.head()"
   ]
  },
  {
   "cell_type": "code",
   "execution_count": 26,
   "metadata": {},
   "outputs": [],
   "source": [
    "coef_df[\"ranking\"] = [x for x in range(coef_df.shape[0])]"
   ]
  },
  {
   "cell_type": "code",
   "execution_count": 27,
   "metadata": {
    "scrolled": true
   },
   "outputs": [
    {
     "data": {
      "text/html": [
       "<div>\n",
       "<style scoped>\n",
       "    .dataframe tbody tr th:only-of-type {\n",
       "        vertical-align: middle;\n",
       "    }\n",
       "\n",
       "    .dataframe tbody tr th {\n",
       "        vertical-align: top;\n",
       "    }\n",
       "\n",
       "    .dataframe thead th {\n",
       "        text-align: right;\n",
       "    }\n",
       "</style>\n",
       "<table border=\"1\" class=\"dataframe\">\n",
       "  <thead>\n",
       "    <tr style=\"text-align: right;\">\n",
       "      <th></th>\n",
       "      <th>feature</th>\n",
       "      <th>coef</th>\n",
       "      <th>abs_coef</th>\n",
       "      <th>ranking</th>\n",
       "    </tr>\n",
       "  </thead>\n",
       "  <tbody>\n",
       "    <tr>\n",
       "      <th>0</th>\n",
       "      <td>London</td>\n",
       "      <td>0.351387</td>\n",
       "      <td>0.351387</td>\n",
       "      <td>0</td>\n",
       "    </tr>\n",
       "    <tr>\n",
       "      <th>14</th>\n",
       "      <td>Birmingham</td>\n",
       "      <td>0.041284</td>\n",
       "      <td>0.041284</td>\n",
       "      <td>14</td>\n",
       "    </tr>\n",
       "    <tr>\n",
       "      <th>28</th>\n",
       "      <td>Nottingham</td>\n",
       "      <td>0.020741</td>\n",
       "      <td>0.020741</td>\n",
       "      <td>28</td>\n",
       "    </tr>\n",
       "    <tr>\n",
       "      <th>33</th>\n",
       "      <td>Sheffield</td>\n",
       "      <td>-0.019689</td>\n",
       "      <td>0.019689</td>\n",
       "      <td>33</td>\n",
       "    </tr>\n",
       "    <tr>\n",
       "      <th>43</th>\n",
       "      <td>Liverpool</td>\n",
       "      <td>0.003933</td>\n",
       "      <td>0.003933</td>\n",
       "      <td>43</td>\n",
       "    </tr>\n",
       "  </tbody>\n",
       "</table>\n",
       "</div>"
      ],
      "text/plain": [
       "       feature      coef  abs_coef  ranking\n",
       "0       London  0.351387  0.351387        0\n",
       "14  Birmingham  0.041284  0.041284       14\n",
       "28  Nottingham  0.020741  0.020741       28\n",
       "33   Sheffield -0.019689  0.019689       33\n",
       "43   Liverpool  0.003933  0.003933       43"
      ]
     },
     "execution_count": 27,
     "metadata": {},
     "output_type": "execute_result"
    }
   ],
   "source": [
    "# searching for the biggest cities\n",
    "top_5_cities = [\"London\",\"Birmingham\",\"Liverpool\",\"Nottingham\",\"Sheffield\"]\n",
    "coef_df[coef_df[\"feature\"].isin(top_5_cities)]"
   ]
  },
  {
   "cell_type": "code",
   "execution_count": 28,
   "metadata": {},
   "outputs": [
    {
     "data": {
      "image/png": "[encoded data removed]",
      "text/plain": [
       "<Figure size 1080x360 with 1 Axes>"
      ]
     },
     "metadata": {
      "needs_background": "light"
     },
     "output_type": "display_data"
    }
   ],
   "source": [
    "custom_palette = []\n",
    "for feature in coef_df.feature:\n",
    "    if feature in top_5_cities:\n",
    "        custom_palette.append('red')\n",
    "    else:\n",
    "        custom_palette.append('grey')\n",
    "\n",
    "plt.figure(figsize=(15,5));\n",
    "sns.barplot(x=coef_df.feature.head(50), y=coef_df.abs_coef.head(50), palette=custom_palette);\n",
    "plt.xticks(rotation=-60);"
   ]
  },
  {
   "cell_type": "markdown",
   "metadata": {},
   "source": [
    "**Conclusions:**\n",
    "\n",
    "* For this binary classification, both models performed very similar, obtaining an accuracy score around 0.60 on the train test\n",
    "\n",
    "\n",
    "* In terms of feature importance, we can see how logically, London is the city that influences more the predictions by far. However, an interesting finding is that the rest of the top 5 cities of the UK -in terms of pupulation-, althought all of them appear within the 50 more influent cities, neither of them are that relevant, in comparisson with others tat have much less population."
   ]
  },
  {
   "cell_type": "markdown",
   "metadata": {},
   "source": [
    "### Running multinomial models with different features"
   ]
  },
  {
   "cell_type": "markdown",
   "metadata": {},
   "source": [
    "**Prepparing a set of DataFrames**"
   ]
  },
  {
   "cell_type": "markdown",
   "metadata": {},
   "source": [
    "**1. DataFrame with Summary Vector**"
   ]
  },
  {
   "cell_type": "code",
   "execution_count": 29,
   "metadata": {},
   "outputs": [],
   "source": [
    "summary_df = pd.read_csv('/Users/gonzaloferreiro/Documents/GA_Materials/DS_Inmersive/DSI8-lessons/projects/project-4/tvec_mat.csv')"
   ]
  },
  {
   "cell_type": "code",
   "execution_count": 30,
   "metadata": {},
   "outputs": [
    {
     "data": {
      "text/html": [
       "<div>\n",
       "<style scoped>\n",
       "    .dataframe tbody tr th:only-of-type {\n",
       "        vertical-align: middle;\n",
       "    }\n",
       "\n",
       "    .dataframe tbody tr th {\n",
       "        vertical-align: top;\n",
       "    }\n",
       "\n",
       "    .dataframe thead th {\n",
       "        text-align: right;\n",
       "    }\n",
       "</style>\n",
       "<table border=\"1\" class=\"dataframe\">\n",
       "  <thead>\n",
       "    <tr style=\"text-align: right;\">\n",
       "      <th></th>\n",
       "      <th>000</th>\n",
       "      <th>0191</th>\n",
       "      <th>10</th>\n",
       "      <th>115</th>\n",
       "      <th>12</th>\n",
       "      <th>15</th>\n",
       "      <th>20</th>\n",
       "      <th>2019</th>\n",
       "      <th>30</th>\n",
       "      <th>30000</th>\n",
       "      <th>...</th>\n",
       "      <th>work</th>\n",
       "      <th>worked</th>\n",
       "      <th>working</th>\n",
       "      <th>works</th>\n",
       "      <th>world</th>\n",
       "      <th>wrangle</th>\n",
       "      <th>write</th>\n",
       "      <th>writing</th>\n",
       "      <th>written</th>\n",
       "      <th>years</th>\n",
       "    </tr>\n",
       "  </thead>\n",
       "  <tbody>\n",
       "    <tr>\n",
       "      <th>0</th>\n",
       "      <td>0.0</td>\n",
       "      <td>0.0</td>\n",
       "      <td>0.0</td>\n",
       "      <td>0.0</td>\n",
       "      <td>0.0</td>\n",
       "      <td>0.0</td>\n",
       "      <td>0.0</td>\n",
       "      <td>0.0</td>\n",
       "      <td>0.0</td>\n",
       "      <td>0.0</td>\n",
       "      <td>...</td>\n",
       "      <td>0.0</td>\n",
       "      <td>0.0</td>\n",
       "      <td>0.0</td>\n",
       "      <td>0.0</td>\n",
       "      <td>0.000</td>\n",
       "      <td>0.0</td>\n",
       "      <td>0.0</td>\n",
       "      <td>0.0</td>\n",
       "      <td>0.0</td>\n",
       "      <td>0.0</td>\n",
       "    </tr>\n",
       "    <tr>\n",
       "      <th>1</th>\n",
       "      <td>0.0</td>\n",
       "      <td>0.0</td>\n",
       "      <td>0.0</td>\n",
       "      <td>0.0</td>\n",
       "      <td>0.0</td>\n",
       "      <td>0.0</td>\n",
       "      <td>0.0</td>\n",
       "      <td>0.0</td>\n",
       "      <td>0.0</td>\n",
       "      <td>0.0</td>\n",
       "      <td>...</td>\n",
       "      <td>0.0</td>\n",
       "      <td>0.0</td>\n",
       "      <td>0.0</td>\n",
       "      <td>0.0</td>\n",
       "      <td>0.000</td>\n",
       "      <td>0.0</td>\n",
       "      <td>0.0</td>\n",
       "      <td>0.0</td>\n",
       "      <td>0.0</td>\n",
       "      <td>0.0</td>\n",
       "    </tr>\n",
       "    <tr>\n",
       "      <th>2</th>\n",
       "      <td>0.0</td>\n",
       "      <td>0.0</td>\n",
       "      <td>0.0</td>\n",
       "      <td>0.0</td>\n",
       "      <td>0.0</td>\n",
       "      <td>0.0</td>\n",
       "      <td>0.0</td>\n",
       "      <td>0.0</td>\n",
       "      <td>0.0</td>\n",
       "      <td>0.0</td>\n",
       "      <td>...</td>\n",
       "      <td>0.0</td>\n",
       "      <td>0.0</td>\n",
       "      <td>0.0</td>\n",
       "      <td>0.0</td>\n",
       "      <td>0.267</td>\n",
       "      <td>0.0</td>\n",
       "      <td>0.0</td>\n",
       "      <td>0.0</td>\n",
       "      <td>0.0</td>\n",
       "      <td>0.0</td>\n",
       "    </tr>\n",
       "    <tr>\n",
       "      <th>3</th>\n",
       "      <td>0.0</td>\n",
       "      <td>0.0</td>\n",
       "      <td>0.0</td>\n",
       "      <td>0.0</td>\n",
       "      <td>0.0</td>\n",
       "      <td>0.0</td>\n",
       "      <td>0.0</td>\n",
       "      <td>0.0</td>\n",
       "      <td>0.0</td>\n",
       "      <td>0.0</td>\n",
       "      <td>...</td>\n",
       "      <td>0.0</td>\n",
       "      <td>0.0</td>\n",
       "      <td>0.0</td>\n",
       "      <td>0.0</td>\n",
       "      <td>0.000</td>\n",
       "      <td>0.0</td>\n",
       "      <td>0.0</td>\n",
       "      <td>0.0</td>\n",
       "      <td>0.0</td>\n",
       "      <td>0.0</td>\n",
       "    </tr>\n",
       "    <tr>\n",
       "      <th>4</th>\n",
       "      <td>0.0</td>\n",
       "      <td>0.0</td>\n",
       "      <td>0.0</td>\n",
       "      <td>0.0</td>\n",
       "      <td>0.0</td>\n",
       "      <td>0.0</td>\n",
       "      <td>0.0</td>\n",
       "      <td>0.0</td>\n",
       "      <td>0.0</td>\n",
       "      <td>0.0</td>\n",
       "      <td>...</td>\n",
       "      <td>0.0</td>\n",
       "      <td>0.0</td>\n",
       "      <td>0.0</td>\n",
       "      <td>0.0</td>\n",
       "      <td>0.000</td>\n",
       "      <td>0.0</td>\n",
       "      <td>0.0</td>\n",
       "      <td>0.0</td>\n",
       "      <td>0.0</td>\n",
       "      <td>0.0</td>\n",
       "    </tr>\n",
       "  </tbody>\n",
       "</table>\n",
       "<p>5 rows × 1400 columns</p>\n",
       "</div>"
      ],
      "text/plain": [
       "   000  0191   10  115   12   15   20  2019   30  30000  ...    work  worked  \\\n",
       "0  0.0   0.0  0.0  0.0  0.0  0.0  0.0   0.0  0.0    0.0  ...     0.0     0.0   \n",
       "1  0.0   0.0  0.0  0.0  0.0  0.0  0.0   0.0  0.0    0.0  ...     0.0     0.0   \n",
       "2  0.0   0.0  0.0  0.0  0.0  0.0  0.0   0.0  0.0    0.0  ...     0.0     0.0   \n",
       "3  0.0   0.0  0.0  0.0  0.0  0.0  0.0   0.0  0.0    0.0  ...     0.0     0.0   \n",
       "4  0.0   0.0  0.0  0.0  0.0  0.0  0.0   0.0  0.0    0.0  ...     0.0     0.0   \n",
       "\n",
       "   working  works  world  wrangle  write  writing  written  years  \n",
       "0      0.0    0.0  0.000      0.0    0.0      0.0      0.0    0.0  \n",
       "1      0.0    0.0  0.000      0.0    0.0      0.0      0.0    0.0  \n",
       "2      0.0    0.0  0.267      0.0    0.0      0.0      0.0    0.0  \n",
       "3      0.0    0.0  0.000      0.0    0.0      0.0      0.0    0.0  \n",
       "4      0.0    0.0  0.000      0.0    0.0      0.0      0.0    0.0  \n",
       "\n",
       "[5 rows x 1400 columns]"
      ]
     },
     "execution_count": 30,
     "metadata": {},
     "output_type": "execute_result"
    }
   ],
   "source": [
    "summary_df.head()"
   ]
  },
  {
   "cell_type": "code",
   "execution_count": 31,
   "metadata": {},
   "outputs": [
    {
     "name": "stdout",
     "output_type": "stream",
     "text": [
      "<class 'pandas.core.frame.DataFrame'>\n",
      "RangeIndex: 898 entries, 0 to 897\n",
      "Columns: 1400 entries, 000 to years\n",
      "dtypes: float64(1400)\n",
      "memory usage: 9.6 MB\n"
     ]
    }
   ],
   "source": [
    "summary_df.info()"
   ]
  },
  {
   "cell_type": "code",
   "execution_count": 32,
   "metadata": {},
   "outputs": [],
   "source": [
    "summary_sparse = sparse.csr_matrix(summary_df)"
   ]
  },
  {
   "cell_type": "markdown",
   "metadata": {},
   "source": [
    "**2. Base DataFrame with original columns**"
   ]
  },
  {
   "cell_type": "code",
   "execution_count": 33,
   "metadata": {},
   "outputs": [],
   "source": [
    "base_df_dumm = base_df.copy()"
   ]
  },
  {
   "cell_type": "code",
   "execution_count": 34,
   "metadata": {},
   "outputs": [],
   "source": [
    "# Dropping salary from our final dataset, since we are going to predict salary categories\n",
    "\n",
    "base_df_dumm.drop(\"Avg_Salary\",axis=1,inplace=True)"
   ]
  },
  {
   "cell_type": "code",
   "execution_count": 35,
   "metadata": {},
   "outputs": [
    {
     "data": {
      "text/html": [
       "<div>\n",
       "<style scoped>\n",
       "    .dataframe tbody tr th:only-of-type {\n",
       "        vertical-align: middle;\n",
       "    }\n",
       "\n",
       "    .dataframe tbody tr th {\n",
       "        vertical-align: top;\n",
       "    }\n",
       "\n",
       "    .dataframe thead th {\n",
       "        text-align: right;\n",
       "    }\n",
       "</style>\n",
       "<table border=\"1\" class=\"dataframe\">\n",
       "  <thead>\n",
       "    <tr style=\"text-align: right;\">\n",
       "      <th></th>\n",
       "      <th>Company</th>\n",
       "      <th>City</th>\n",
       "      <th>Job_Type</th>\n",
       "      <th>Industry</th>\n",
       "      <th>Job_Kind</th>\n",
       "      <th>Seniority</th>\n",
       "    </tr>\n",
       "  </thead>\n",
       "  <tbody>\n",
       "    <tr>\n",
       "      <th>0</th>\n",
       "      <td>Nesta</td>\n",
       "      <td>London</td>\n",
       "      <td>contract</td>\n",
       "      <td>Organization</td>\n",
       "      <td>datascientist</td>\n",
       "      <td>junior_level</td>\n",
       "    </tr>\n",
       "    <tr>\n",
       "      <th>1</th>\n",
       "      <td>Pivigo Ltd</td>\n",
       "      <td>London</td>\n",
       "      <td>contract</td>\n",
       "      <td>Other</td>\n",
       "      <td>datascientist</td>\n",
       "      <td>middle_level</td>\n",
       "    </tr>\n",
       "    <tr>\n",
       "      <th>2</th>\n",
       "      <td>CMW International</td>\n",
       "      <td>London</td>\n",
       "      <td>contract</td>\n",
       "      <td>Other</td>\n",
       "      <td>datascientist</td>\n",
       "      <td>middle_level</td>\n",
       "    </tr>\n",
       "    <tr>\n",
       "      <th>3</th>\n",
       "      <td>J&amp;C Associates Ltd</td>\n",
       "      <td>London</td>\n",
       "      <td>contract</td>\n",
       "      <td>Other</td>\n",
       "      <td>datascientist</td>\n",
       "      <td>middle_level</td>\n",
       "    </tr>\n",
       "    <tr>\n",
       "      <th>4</th>\n",
       "      <td>Salt Recruitment</td>\n",
       "      <td>London</td>\n",
       "      <td>contract</td>\n",
       "      <td>Consulting and Business Services</td>\n",
       "      <td>datascientist</td>\n",
       "      <td>senior_level</td>\n",
       "    </tr>\n",
       "  </tbody>\n",
       "</table>\n",
       "</div>"
      ],
      "text/plain": [
       "              Company    City  Job_Type                          Industry  \\\n",
       "0               Nesta  London  contract                      Organization   \n",
       "1          Pivigo Ltd  London  contract                             Other   \n",
       "2   CMW International  London  contract                             Other   \n",
       "3  J&C Associates Ltd  London  contract                             Other   \n",
       "4    Salt Recruitment  London  contract  Consulting and Business Services   \n",
       "\n",
       "        Job_Kind     Seniority  \n",
       "0  datascientist  junior_level  \n",
       "1  datascientist  middle_level  \n",
       "2  datascientist  middle_level  \n",
       "3  datascientist  middle_level  \n",
       "4  datascientist  senior_level  "
      ]
     },
     "execution_count": 35,
     "metadata": {},
     "output_type": "execute_result"
    }
   ],
   "source": [
    "base_df_dumm.head()"
   ]
  },
  {
   "cell_type": "code",
   "execution_count": 36,
   "metadata": {},
   "outputs": [],
   "source": [
    "# Selecting myself the columns to be dropped after dummification:\n",
    "\n",
    "some_columns = [\"Company\",\"City\",\"Job_Type\"]\n",
    "droppers = [each + \"_\" + base_df_dumm.sort_values(each)[each].head(1).values[0] for each in some_columns]\n",
    "droppers.append(\"Industry_Other\")\n",
    "droppers.append(\"Job_Kind_Unknown\")"
   ]
  },
  {
   "cell_type": "code",
   "execution_count": 37,
   "metadata": {},
   "outputs": [],
   "source": [
    "base_df_dumm = pd.get_dummies(base_df_dumm)"
   ]
  },
  {
   "cell_type": "code",
   "execution_count": 38,
   "metadata": {},
   "outputs": [],
   "source": [
    "base_df_dumm.drop(droppers,axis=1,inplace=True)"
   ]
  },
  {
   "cell_type": "code",
   "execution_count": 39,
   "metadata": {},
   "outputs": [
    {
     "data": {
      "text/plain": [
       "(898, 352)"
      ]
     },
     "execution_count": 39,
     "metadata": {},
     "output_type": "execute_result"
    }
   ],
   "source": [
    "base_df_dumm.shape"
   ]
  },
  {
   "cell_type": "code",
   "execution_count": 40,
   "metadata": {},
   "outputs": [
    {
     "name": "stdout",
     "output_type": "stream",
     "text": [
      "<class 'pandas.core.frame.DataFrame'>\n",
      "RangeIndex: 898 entries, 0 to 897\n",
      "Columns: 352 entries, Company_AMSI Consultancy Services to Seniority_senior_level\n",
      "dtypes: uint8(352)\n",
      "memory usage: 308.8 KB\n"
     ]
    }
   ],
   "source": [
    "base_df_dumm.info()"
   ]
  },
  {
   "cell_type": "code",
   "execution_count": 41,
   "metadata": {
    "scrolled": true
   },
   "outputs": [],
   "source": [
    "base_df_dumm = base_df_dumm.apply(lambda x: x.astype(float))"
   ]
  },
  {
   "cell_type": "code",
   "execution_count": 42,
   "metadata": {},
   "outputs": [
    {
     "name": "stdout",
     "output_type": "stream",
     "text": [
      "<class 'pandas.core.frame.DataFrame'>\n",
      "RangeIndex: 898 entries, 0 to 897\n",
      "Columns: 352 entries, Company_AMSI Consultancy Services to Seniority_senior_level\n",
      "dtypes: float64(352)\n",
      "memory usage: 2.4 MB\n"
     ]
    }
   ],
   "source": [
    "base_df_dumm.info()"
   ]
  },
  {
   "cell_type": "code",
   "execution_count": 43,
   "metadata": {},
   "outputs": [],
   "source": [
    "base_sparse = sparse.csr_matrix(base_df_dumm)"
   ]
  },
  {
   "cell_type": "markdown",
   "metadata": {},
   "source": [
    "**3. DataFrame with the combination of summary vectorized + other features**"
   ]
  },
  {
   "cell_type": "code",
   "execution_count": 44,
   "metadata": {},
   "outputs": [],
   "source": [
    "concat_df = pd.concat((base_df_dumm,summary_df),axis=1)"
   ]
  },
  {
   "cell_type": "code",
   "execution_count": 45,
   "metadata": {},
   "outputs": [],
   "source": [
    "concat_df.drop([\"index\"],axis=1,inplace=True)"
   ]
  },
  {
   "cell_type": "code",
   "execution_count": 46,
   "metadata": {},
   "outputs": [
    {
     "data": {
      "text/html": [
       "<div>\n",
       "<style scoped>\n",
       "    .dataframe tbody tr th:only-of-type {\n",
       "        vertical-align: middle;\n",
       "    }\n",
       "\n",
       "    .dataframe tbody tr th {\n",
       "        vertical-align: top;\n",
       "    }\n",
       "\n",
       "    .dataframe thead th {\n",
       "        text-align: right;\n",
       "    }\n",
       "</style>\n",
       "<table border=\"1\" class=\"dataframe\">\n",
       "  <thead>\n",
       "    <tr style=\"text-align: right;\">\n",
       "      <th></th>\n",
       "      <th>Company_AMSI Consultancy Services</th>\n",
       "      <th>Company_AWE</th>\n",
       "      <th>Company_Accenture</th>\n",
       "      <th>Company_Acorn Recruitment Limited</th>\n",
       "      <th>Company_Ad Warrior</th>\n",
       "      <th>Company_Aiimi Ltd</th>\n",
       "      <th>Company_Anglian Water Services Ltd</th>\n",
       "      <th>Company_AquAffirm Ltd</th>\n",
       "      <th>Company_Aspire Recruitment Partnership</th>\n",
       "      <th>Company_Astex Pharmaceuticals</th>\n",
       "      <th>...</th>\n",
       "      <th>work</th>\n",
       "      <th>worked</th>\n",
       "      <th>working</th>\n",
       "      <th>works</th>\n",
       "      <th>world</th>\n",
       "      <th>wrangle</th>\n",
       "      <th>write</th>\n",
       "      <th>writing</th>\n",
       "      <th>written</th>\n",
       "      <th>years</th>\n",
       "    </tr>\n",
       "  </thead>\n",
       "  <tbody>\n",
       "    <tr>\n",
       "      <th>0</th>\n",
       "      <td>0.0</td>\n",
       "      <td>0.0</td>\n",
       "      <td>0.0</td>\n",
       "      <td>0.0</td>\n",
       "      <td>0.0</td>\n",
       "      <td>0.0</td>\n",
       "      <td>0.0</td>\n",
       "      <td>0.0</td>\n",
       "      <td>0.0</td>\n",
       "      <td>0.0</td>\n",
       "      <td>...</td>\n",
       "      <td>0.0</td>\n",
       "      <td>0.0</td>\n",
       "      <td>0.0</td>\n",
       "      <td>0.0</td>\n",
       "      <td>0.000</td>\n",
       "      <td>0.0</td>\n",
       "      <td>0.0</td>\n",
       "      <td>0.0</td>\n",
       "      <td>0.0</td>\n",
       "      <td>0.0</td>\n",
       "    </tr>\n",
       "    <tr>\n",
       "      <th>1</th>\n",
       "      <td>0.0</td>\n",
       "      <td>0.0</td>\n",
       "      <td>0.0</td>\n",
       "      <td>0.0</td>\n",
       "      <td>0.0</td>\n",
       "      <td>0.0</td>\n",
       "      <td>0.0</td>\n",
       "      <td>0.0</td>\n",
       "      <td>0.0</td>\n",
       "      <td>0.0</td>\n",
       "      <td>...</td>\n",
       "      <td>0.0</td>\n",
       "      <td>0.0</td>\n",
       "      <td>0.0</td>\n",
       "      <td>0.0</td>\n",
       "      <td>0.000</td>\n",
       "      <td>0.0</td>\n",
       "      <td>0.0</td>\n",
       "      <td>0.0</td>\n",
       "      <td>0.0</td>\n",
       "      <td>0.0</td>\n",
       "    </tr>\n",
       "    <tr>\n",
       "      <th>2</th>\n",
       "      <td>0.0</td>\n",
       "      <td>0.0</td>\n",
       "      <td>0.0</td>\n",
       "      <td>0.0</td>\n",
       "      <td>0.0</td>\n",
       "      <td>0.0</td>\n",
       "      <td>0.0</td>\n",
       "      <td>0.0</td>\n",
       "      <td>0.0</td>\n",
       "      <td>0.0</td>\n",
       "      <td>...</td>\n",
       "      <td>0.0</td>\n",
       "      <td>0.0</td>\n",
       "      <td>0.0</td>\n",
       "      <td>0.0</td>\n",
       "      <td>0.267</td>\n",
       "      <td>0.0</td>\n",
       "      <td>0.0</td>\n",
       "      <td>0.0</td>\n",
       "      <td>0.0</td>\n",
       "      <td>0.0</td>\n",
       "    </tr>\n",
       "    <tr>\n",
       "      <th>3</th>\n",
       "      <td>0.0</td>\n",
       "      <td>0.0</td>\n",
       "      <td>0.0</td>\n",
       "      <td>0.0</td>\n",
       "      <td>0.0</td>\n",
       "      <td>0.0</td>\n",
       "      <td>0.0</td>\n",
       "      <td>0.0</td>\n",
       "      <td>0.0</td>\n",
       "      <td>0.0</td>\n",
       "      <td>...</td>\n",
       "      <td>0.0</td>\n",
       "      <td>0.0</td>\n",
       "      <td>0.0</td>\n",
       "      <td>0.0</td>\n",
       "      <td>0.000</td>\n",
       "      <td>0.0</td>\n",
       "      <td>0.0</td>\n",
       "      <td>0.0</td>\n",
       "      <td>0.0</td>\n",
       "      <td>0.0</td>\n",
       "    </tr>\n",
       "    <tr>\n",
       "      <th>4</th>\n",
       "      <td>0.0</td>\n",
       "      <td>0.0</td>\n",
       "      <td>0.0</td>\n",
       "      <td>0.0</td>\n",
       "      <td>0.0</td>\n",
       "      <td>0.0</td>\n",
       "      <td>0.0</td>\n",
       "      <td>0.0</td>\n",
       "      <td>0.0</td>\n",
       "      <td>0.0</td>\n",
       "      <td>...</td>\n",
       "      <td>0.0</td>\n",
       "      <td>0.0</td>\n",
       "      <td>0.0</td>\n",
       "      <td>0.0</td>\n",
       "      <td>0.000</td>\n",
       "      <td>0.0</td>\n",
       "      <td>0.0</td>\n",
       "      <td>0.0</td>\n",
       "      <td>0.0</td>\n",
       "      <td>0.0</td>\n",
       "    </tr>\n",
       "  </tbody>\n",
       "</table>\n",
       "<p>5 rows × 1751 columns</p>\n",
       "</div>"
      ],
      "text/plain": [
       "   Company_AMSI Consultancy Services  Company_AWE  Company_Accenture  \\\n",
       "0                                0.0          0.0                0.0   \n",
       "1                                0.0          0.0                0.0   \n",
       "2                                0.0          0.0                0.0   \n",
       "3                                0.0          0.0                0.0   \n",
       "4                                0.0          0.0                0.0   \n",
       "\n",
       "   Company_Acorn Recruitment Limited  Company_Ad Warrior  Company_Aiimi Ltd  \\\n",
       "0                                0.0                 0.0                0.0   \n",
       "1                                0.0                 0.0                0.0   \n",
       "2                                0.0                 0.0                0.0   \n",
       "3                                0.0                 0.0                0.0   \n",
       "4                                0.0                 0.0                0.0   \n",
       "\n",
       "   Company_Anglian Water Services Ltd  Company_AquAffirm Ltd  \\\n",
       "0                                 0.0                    0.0   \n",
       "1                                 0.0                    0.0   \n",
       "2                                 0.0                    0.0   \n",
       "3                                 0.0                    0.0   \n",
       "4                                 0.0                    0.0   \n",
       "\n",
       "   Company_Aspire Recruitment Partnership  Company_Astex Pharmaceuticals  \\\n",
       "0                                     0.0                            0.0   \n",
       "1                                     0.0                            0.0   \n",
       "2                                     0.0                            0.0   \n",
       "3                                     0.0                            0.0   \n",
       "4                                     0.0                            0.0   \n",
       "\n",
       "   ...    work  worked  working  works  world  wrangle  write  writing  \\\n",
       "0  ...     0.0     0.0      0.0    0.0  0.000      0.0    0.0      0.0   \n",
       "1  ...     0.0     0.0      0.0    0.0  0.000      0.0    0.0      0.0   \n",
       "2  ...     0.0     0.0      0.0    0.0  0.267      0.0    0.0      0.0   \n",
       "3  ...     0.0     0.0      0.0    0.0  0.000      0.0    0.0      0.0   \n",
       "4  ...     0.0     0.0      0.0    0.0  0.000      0.0    0.0      0.0   \n",
       "\n",
       "   written  years  \n",
       "0      0.0    0.0  \n",
       "1      0.0    0.0  \n",
       "2      0.0    0.0  \n",
       "3      0.0    0.0  \n",
       "4      0.0    0.0  \n",
       "\n",
       "[5 rows x 1751 columns]"
      ]
     },
     "execution_count": 46,
     "metadata": {},
     "output_type": "execute_result"
    }
   ],
   "source": [
    "concat_df.head()"
   ]
  },
  {
   "cell_type": "code",
   "execution_count": 47,
   "metadata": {},
   "outputs": [],
   "source": [
    "concat_sparse = sparse.csr_matrix(concat_df)"
   ]
  },
  {
   "cell_type": "markdown",
   "metadata": {},
   "source": [
    "**Function to run models**"
   ]
  },
  {
   "cell_type": "code",
   "execution_count": 48,
   "metadata": {},
   "outputs": [],
   "source": [
    "def modelarte(X_train, y_train, mr_model, model_params, optimizer = False, cv=5, score=accuracy_score):\n",
    "    \n",
    "    if not optimizer:\n",
    "    \n",
    "        #1: Creating grid search\n",
    "        insta_base_estimator_gs = GridSearchCV(mr_model, param_grid=model_params, \n",
    "                                               cv=cv, n_jobs=2, refit=True, iid=False)\n",
    "\n",
    "        #2: Fitting grid search\n",
    "        insta_base_estimator_gs.fit(X_train,y_train)\n",
    "        final_model = insta_base_estimator_gs\n",
    "    \n",
    "    if optimizer:\n",
    "\n",
    "        #1: Creating grid search\n",
    "        optimizer_gs = GridSearchCV(mr_model, param_grid=model_params, \n",
    "                                    cv=cv, n_jobs=2, refit=True, iid=False)\n",
    "\n",
    "        #2: Fitting grid search\n",
    "        optimizer_gs.fit(X_train,y_train)\n",
    "        final_model = optimizer_gs\n",
    "    \n",
    "    return(final_model)"
   ]
  },
  {
   "cell_type": "markdown",
   "metadata": {},
   "source": [
    "**MODELING | 1. First models only with dummy variables**"
   ]
  },
  {
   "cell_type": "code",
   "execution_count": 177,
   "metadata": {},
   "outputs": [],
   "source": [
    "X_train_v1, X_test_v1, y_train_v1, y_test_v1 = train_test_split(\n",
    "base_df_dumm, y, test_size=0.2, stratify=y, random_state=123, shuffle = True)\n",
    "\n",
    "scaler.fit(X_train_v1)\n",
    "X_train_v1 = scaler.transform(X_train_v1)\n",
    "X_test_v1 = scaler.transform(X_test_v1)\n",
    "X_train_v1 = sparse.csr_matrix(X_train_v1)"
   ]
  },
  {
   "cell_type": "markdown",
   "metadata": {},
   "source": [
    "Logistic Regression model\n",
    "\n",
    "First model is only using LogisticRegression, wighout bagging or boosting, since as it is a stable classifier, LogisticRegression does not works well with ensemble methods, as it tends to not change much its performance when the training set is modified.\n",
    "\n",
    "Also I won't be using grid search for this first model, as it takes too much to run in my computer and also because I did try a lot of combinations in previous runs from which I draw conclusions in terms of which parameter was important and which not, ending in the following combination:"
   ]
  },
  {
   "cell_type": "code",
   "execution_count": 180,
   "metadata": {},
   "outputs": [],
   "source": [
    "log_model_v1 = LogisticRegressionCV(Cs = 20, penalty = \"l2\", solver = 'saga',\n",
    "                                    max_iter = 5000, random_state = 123, cv = 5)"
   ]
  },
  {
   "cell_type": "code",
   "execution_count": 181,
   "metadata": {},
   "outputs": [
    {
     "name": "stderr",
     "output_type": "stream",
     "text": [
      "/Users/gonzaloferreiro/anaconda3/lib/python3.6/site-packages/sklearn/linear_model/logistic.py:460: FutureWarning: Default multi_class will be changed to 'auto' in 0.22. Specify the multi_class option to silence this warning.\n",
      "  \"this warning.\", FutureWarning)\n"
     ]
    }
   ],
   "source": [
    "first_model_logreg = log_model_v1.fit(X_train_v1,y_train_v1)"
   ]
  },
  {
   "cell_type": "code",
   "execution_count": 183,
   "metadata": {},
   "outputs": [
    {
     "data": {
      "text/plain": [
       "0.8611111111111112"
      ]
     },
     "execution_count": 183,
     "metadata": {},
     "output_type": "execute_result"
    }
   ],
   "source": [
    "first_model_logreg.score(X_test_v1,y_test_v1)"
   ]
  },
  {
   "cell_type": "code",
   "execution_count": 220,
   "metadata": {},
   "outputs": [
    {
     "data": {
      "text/plain": [
       "array([0.01274275, 0.01274275, 0.01274275, 0.01274275])"
      ]
     },
     "execution_count": 220,
     "metadata": {},
     "output_type": "execute_result"
    }
   ],
   "source": [
    "first_model_logreg.C_"
   ]
  },
  {
   "cell_type": "code",
   "execution_count": 104,
   "metadata": {},
   "outputs": [
    {
     "data": {
      "text/plain": [
       "array([  1.        ,   4.21696503,  17.7827941 ,  74.98942093,\n",
       "       316.22776602])"
      ]
     },
     "execution_count": 104,
     "metadata": {},
     "output_type": "execute_result"
    }
   ],
   "source": [
    "np.logspace(0, 2.5, 5)"
   ]
  },
  {
   "cell_type": "markdown",
   "metadata": {},
   "source": [
    "This managed to become my best models, using the base_df. \n",
    "\n",
    "In this case I tunned the following parameters:\n",
    "\n",
    "* **solver**: I tried with 'liblinear', 'saga' and 'lbfgs'.\n",
    "\n",
    "\n",
    "* **penalty**: This parameter represents the kind of regularization applied to the model. A regression model that uses L1 regularization technique is called Lasso Regression and model which uses L2 is called Ridge Regression. The key difference between these techniques is that Lasso shrinks the less important feature’s coefficient to zero thus, removing some feature altogether. So, this works well for feature selection in case we have a huge number of features. That's why I thought Lasso would work better in this case, since the dataset has 352 columns. However, Ridge enden up being the best kind of regularization. Typically Ridge is better for minimizing prediction error rather than Lasso because when two predictors are highly correlated, L1 regularizer will simply pick one of the two predictors. In contrast, the L2 regularizer will keep both of them and jointly shrink the corresponding coefficients a little bit.\n",
    "\n",
    "\n",
    "* **Cs**: The Cs parameter stands for the inverse of regularization strength. In this case, I ended up using a strong penalty, since the final Cs value was very near to 0. That means that the regularization shrinked a lot the coefficients, what sounds reasonable, since I was working with a dataset with a lot of columns, so there was a lot of data the that wasn't very important.\n",
    "\n",
    "\n",
    "Finally, it was necessary to increase a lot the number of iterations, in order to complete the process entirely."
   ]
  },
  {
   "cell_type": "markdown",
   "metadata": {},
   "source": [
    "KNeighbors Model with Bagging"
   ]
  },
  {
   "cell_type": "code",
   "execution_count": 186,
   "metadata": {},
   "outputs": [],
   "source": [
    "# I ran this model tons of times and I went selecting the parameters, to reduce their amount in each iteration\n",
    "\n",
    "knn_params_v1 = {'base_estimator__n_neighbors': [20,25,30],\n",
    "                'base_estimator__p': [1],\n",
    "                'base_estimator__weights': ['distance'],\n",
    "                'max_samples': [1.0],\n",
    "                'max_features': [0.7,0.8,0.9],\n",
    "                'n_estimators': [500]}"
   ]
  },
  {
   "cell_type": "code",
   "execution_count": 754,
   "metadata": {},
   "outputs": [],
   "source": [
    "knn_model_v1 = KNeighborsClassifier(n_jobs=2)"
   ]
  },
  {
   "cell_type": "code",
   "execution_count": 755,
   "metadata": {},
   "outputs": [],
   "source": [
    "bagging_knn_model_v1 = BaggingClassifier(knn_model_v1)"
   ]
  },
  {
   "cell_type": "code",
   "execution_count": 756,
   "metadata": {},
   "outputs": [],
   "source": [
    "first_model_knn = modelarte(X_train_v1, y_train_v1, bagging_knn_model_v1, knn_params_v1, optimizer=True)"
   ]
  },
  {
   "cell_type": "code",
   "execution_count": 763,
   "metadata": {
    "scrolled": true
   },
   "outputs": [
    {
     "data": {
      "text/plain": [
       "{'base_estimator__n_neighbors': 25,\n",
       " 'base_estimator__p': 1,\n",
       " 'base_estimator__weights': 'distance',\n",
       " 'max_features': 0.8,\n",
       " 'max_samples': 1.0,\n",
       " 'n_estimators': 500}"
      ]
     },
     "execution_count": 763,
     "metadata": {},
     "output_type": "execute_result"
    }
   ],
   "source": [
    "first_model_knn.best_params_"
   ]
  },
  {
   "cell_type": "code",
   "execution_count": 764,
   "metadata": {},
   "outputs": [
    {
     "data": {
      "text/plain": [
       "0.8513011152416357"
      ]
     },
     "execution_count": 764,
     "metadata": {},
     "output_type": "execute_result"
    }
   ],
   "source": [
    "first_model_knn.score(X_test_v1,y_test_v1)"
   ]
  },
  {
   "cell_type": "markdown",
   "metadata": {},
   "source": [
    "In this case, I run a KNN model with bagging, in order to improve the results of the base estimator by averaging multiple runs of it, with several parameters. Although this model obtained a very good score, I was not able to experiment a lot with it because of it's extreme low velocity to run. \n",
    "\n",
    "However, I could optimize the following parameters, in order to get a better score:\n",
    "\n",
    "* **n_neighbors**: in short, as we know, k-nearest neighbors works by checking the class of the nearest points to the one being predicted, in order to classify it. This parameter allows us to optimize the number of neighbors that are going to be chosen.\n",
    "\n",
    "\n",
    "* **p**: when p = 1, this is equivalent to using manhattan_distance (l1), and euclidean_distance (l2) for p = 2.\n",
    "\n",
    "\n",
    "* **weights**: stands for the weight function used in prediction. I tried with 'uniform'  and 'distance'. The first one means that all points in each neighborhood are weighted equally. Meanwhile the second one weights the points by the inverse of their distance. In this case, closer neighbors of a query point will have a greater influence than neighbors which are further away. This last option ended up being the better one for my dataset. What makes sense taking into account that for one salary category, there are points from several cities, industries, etc.\n",
    "\n",
    "\n",
    "* **max_features**: this is a bagging parameter. Is the number of features to draw from X to train each base estimator. This feature was worth exploring for many different values, and it hade a large impact on the behavior of the model because, as it decides how many features are considered at each split. \n",
    "\n",
    "\n",
    "* **max_samples**: is the number of samples to draw from X to train each time. 1 means means that I took samples equally large to omy original dataset.\n",
    "\n",
    "\n",
    "* **n_estimators**: the number of models that are going to be created by the Baggin Classifier. Usually, more models means a more robust average in the end, which results in a more reliable and solid score."
   ]
  },
  {
   "cell_type": "markdown",
   "metadata": {},
   "source": [
    "Decision Tree with Ada Boost"
   ]
  },
  {
   "cell_type": "code",
   "execution_count": 212,
   "metadata": {},
   "outputs": [],
   "source": [
    "trees_params_v1 = {'base_estimator__max_depth': [80,100,120,150],\n",
    "                   'base_estimator__max_features': [0.93,0.95,0.97],\n",
    "                   'n_estimators': [1200]}"
   ]
  },
  {
   "cell_type": "code",
   "execution_count": 213,
   "metadata": {},
   "outputs": [],
   "source": [
    "trees_model_v1 = DecisionTreeClassifier()"
   ]
  },
  {
   "cell_type": "code",
   "execution_count": 214,
   "metadata": {},
   "outputs": [],
   "source": [
    "boosting_trees_model_v1 = AdaBoostClassifier(base_estimator = trees_model_v1, random_state=123)"
   ]
  },
  {
   "cell_type": "code",
   "execution_count": 215,
   "metadata": {},
   "outputs": [],
   "source": [
    "first_model_trees = modelarte(X_train_v1, y_train_v1, boosting_trees_model_v1, trees_params_v1, optimizer=True)"
   ]
  },
  {
   "cell_type": "code",
   "execution_count": 216,
   "metadata": {},
   "outputs": [
    {
     "data": {
      "text/plain": [
       "{'base_estimator__max_depth': 80,\n",
       " 'base_estimator__max_features': 0.95,\n",
       " 'n_estimators': 1200}"
      ]
     },
     "execution_count": 216,
     "metadata": {},
     "output_type": "execute_result"
    }
   ],
   "source": [
    "first_model_trees.best_params_"
   ]
  },
  {
   "cell_type": "code",
   "execution_count": 217,
   "metadata": {},
   "outputs": [
    {
     "data": {
      "text/plain": [
       "0.8444444444444444"
      ]
     },
     "execution_count": 217,
     "metadata": {},
     "output_type": "execute_result"
    }
   ],
   "source": [
    "first_model_trees.score(X_test_v1,y_test_v1)"
   ]
  },
  {
   "cell_type": "code",
   "execution_count": 672,
   "metadata": {},
   "outputs": [],
   "source": [
    "prediction_trees_v1 = first_model_trees.predict(X_test_v1)"
   ]
  },
  {
   "cell_type": "markdown",
   "metadata": {},
   "source": [
    "\n",
    "\n",
    "In this model, I'm using Decision Trees with Ada Boost, in order to reduce bias and try to reduce variance as well.\n",
    "\n",
    "Taking this into account, I touch the following parameters several times, until I got this score:\n",
    "\n",
    "* **n_estimators**: already explain in the previous model\n",
    "\n",
    "\n",
    "* **max_features** this is an interesting attribute while using boosting, since on of the issues with regression trees is the number of significant variables and the number of nonsignificant variables in the data set. It is known that when we have few interesting input variables and a large number of noise variables, the regression forests does not behave well. Boosting procedures does not have this behavior, since at each iteration only the region of interests have large weight, so the already learned regions are affected less.\n",
    "\n",
    "\n",
    "* **max_samples**: this was also an interesting point since with decision trees exists the possibility of learning too well the data and if the data is not representative, then the results are bad. In which way the data might not be representative? For example could happen that I had not enought data for one kind of seniority."
   ]
  },
  {
   "cell_type": "markdown",
   "metadata": {},
   "source": [
    "Classification Report and ROC for this dataset"
   ]
  },
  {
   "cell_type": "code",
   "execution_count": 377,
   "metadata": {},
   "outputs": [],
   "source": [
    "first_pred = first_model_logreg.predict(X_test_v1)"
   ]
  },
  {
   "cell_type": "code",
   "execution_count": 378,
   "metadata": {},
   "outputs": [
    {
     "name": "stdout",
     "output_type": "stream",
     "text": [
      "              precision    recall  f1-score   support\n",
      "\n",
      "           A       0.90      0.88      0.89        41\n",
      "           B       0.88      0.86      0.87        49\n",
      "           C       0.80      0.75      0.78        44\n",
      "           D       0.86      0.96      0.91        46\n",
      "\n",
      "   micro avg       0.86      0.86      0.86       180\n",
      "   macro avg       0.86      0.86      0.86       180\n",
      "weighted avg       0.86      0.86      0.86       180\n",
      "\n"
     ]
    }
   ],
   "source": [
    "print(metrics.classification_report(y_test_v1, first_pred))"
   ]
  },
  {
   "cell_type": "code",
   "execution_count": 380,
   "metadata": {},
   "outputs": [],
   "source": [
    "first_y_test_bin = label_binarize(y_test_v1, first_model_logreg.classes_)"
   ]
  },
  {
   "cell_type": "code",
   "execution_count": 381,
   "metadata": {
    "scrolled": true
   },
   "outputs": [
    {
     "name": "stdout",
     "output_type": "stream",
     "text": [
      "Area under ROC curve (ROC-AUC):\n",
      "Class A: 0.99\n",
      "Class B: 0.96\n",
      "Class C: 0.94\n",
      "Class D: 0.99\n"
     ]
    }
   ],
   "source": [
    "print('Area under ROC curve (ROC-AUC):')\n",
    "for i, class_ in enumerate(first_model_logreg.classes_):\n",
    "    print('Class {}:'.format(class_), round(roc_auc_score(\n",
    "        first_y_test_bin[:, i], first_model_logreg.predict_proba(X_test_v1)[:, i]), 2))"
   ]
  },
  {
   "cell_type": "markdown",
   "metadata": {},
   "source": [
    "**MODELING | 2. Second model only with vectorized summary**"
   ]
  },
  {
   "cell_type": "code",
   "execution_count": null,
   "metadata": {},
   "outputs": [],
   "source": [
    "X_train_v2, X_test_v2, y_train_v2, y_test_v2 = train_test_split(\n",
    "summary_df, y, test_size=0.2, stratify=y, random_state=123, shuffle = True)\n",
    "\n",
    "scaler.fit(X_train_v2)\n",
    "X_train_v2 = scaler.transform(X_train_v2)\n",
    "X_test_v2 = scaler.transform(X_test_v2)\n",
    "X_train_v2 = sparse.csr_matrix(X_train_v2)"
   ]
  },
  {
   "cell_type": "markdown",
   "metadata": {},
   "source": [
    "Logistic Regression model\n",
    "\n",
    "Starting just with Linear Regression without Grid Search because of the same reasons explained for the first model."
   ]
  },
  {
   "cell_type": "code",
   "execution_count": 141,
   "metadata": {},
   "outputs": [],
   "source": [
    "log_model_v2 = LogisticRegressionCV(max_iter = 10000, random_state = 123, cv = 5,\n",
    "                                   penalty = \"l2\", solver = \"saga\", Cs = 100, multi_class = 'multinomial')"
   ]
  },
  {
   "cell_type": "code",
   "execution_count": 142,
   "metadata": {},
   "outputs": [
    {
     "data": {
      "text/plain": [
       "LogisticRegressionCV(Cs=100, class_weight=None, cv=5, dual=False,\n",
       "           fit_intercept=True, intercept_scaling=1.0, max_iter=10000,\n",
       "           multi_class='multinomial', n_jobs=None, penalty='l2',\n",
       "           random_state=123, refit=True, scoring=None, solver='saga',\n",
       "           tol=0.0001, verbose=0)"
      ]
     },
     "execution_count": 142,
     "metadata": {},
     "output_type": "execute_result"
    }
   ],
   "source": [
    "log_model_v2.fit(X_train_v2,y_train_v2)"
   ]
  },
  {
   "cell_type": "code",
   "execution_count": 145,
   "metadata": {},
   "outputs": [
    {
     "data": {
      "text/plain": [
       "0.25069637883008355"
      ]
     },
     "execution_count": 145,
     "metadata": {},
     "output_type": "execute_result"
    }
   ],
   "source": [
    "log_model_v2.score(X_test_v2,y_test_v2)"
   ]
  },
  {
   "cell_type": "markdown",
   "metadata": {},
   "source": [
    "Classification Report and ROC for this dataset"
   ]
  },
  {
   "cell_type": "code",
   "execution_count": 372,
   "metadata": {},
   "outputs": [],
   "source": [
    "second_pred = log_model_v2.predict(X_test_v2)"
   ]
  },
  {
   "cell_type": "code",
   "execution_count": 373,
   "metadata": {},
   "outputs": [
    {
     "name": "stdout",
     "output_type": "stream",
     "text": [
      "              precision    recall  f1-score   support\n",
      "\n",
      "           A       0.21      0.26      0.23       164\n",
      "           B       0.26      0.30      0.28       194\n",
      "           C       0.28      0.24      0.26       177\n",
      "           D       0.26      0.19      0.22       183\n",
      "\n",
      "   micro avg       0.25      0.25      0.25       718\n",
      "   macro avg       0.25      0.25      0.25       718\n",
      "weighted avg       0.25      0.25      0.25       718\n",
      "\n"
     ]
    }
   ],
   "source": [
    "print(metrics.classification_report(y_test_v2, second_pred))"
   ]
  },
  {
   "cell_type": "code",
   "execution_count": 375,
   "metadata": {},
   "outputs": [],
   "source": [
    "second_y_test_bin = label_binarize(y_test_v2, log_model_v2.classes_)"
   ]
  },
  {
   "cell_type": "code",
   "execution_count": 376,
   "metadata": {
    "scrolled": true
   },
   "outputs": [
    {
     "name": "stdout",
     "output_type": "stream",
     "text": [
      "Area under ROC curve (ROC-AUC):\n",
      "Class A: 0.47\n",
      "Class B: 0.48\n",
      "Class C: 0.52\n",
      "Class D: 0.52\n"
     ]
    }
   ],
   "source": [
    "print('Area under ROC curve (ROC-AUC):')\n",
    "for i, class_ in enumerate(log_model_v2.classes_):\n",
    "    print('Class {}:'.format(class_), round(roc_auc_score(\n",
    "        second_y_test_bin[:, i], log_model_v2.predict_proba(X_test_v2)[:, i]), 2))"
   ]
  },
  {
   "cell_type": "markdown",
   "metadata": {},
   "source": [
    "**This model is very very far away from any metric obtained with the base information, so I'm not going to explore any more models with this dataset**"
   ]
  },
  {
   "cell_type": "markdown",
   "metadata": {},
   "source": [
    "**MODELING | 3. Third model using vectorized summary + base df**"
   ]
  },
  {
   "cell_type": "code",
   "execution_count": 153,
   "metadata": {},
   "outputs": [],
   "source": [
    "X_train_v3, X_test_v3, y_train_v3, y_test_v3 = train_test_split(\n",
    "concat_df, y, test_size=0.2, stratify=y, random_state=123, shuffle = True)\n",
    "\n",
    "scaler.fit(X_train_v3)\n",
    "X_train_v3 = scaler.transform(X_train_v3)\n",
    "X_test_v3 = scaler.transform(X_test_v3)\n",
    "X_train_v3 = sparse.csr_matrix(X_train_v3)"
   ]
  },
  {
   "cell_type": "markdown",
   "metadata": {},
   "source": [
    "Decision Tree with Boost"
   ]
  },
  {
   "cell_type": "code",
   "execution_count": 164,
   "metadata": {},
   "outputs": [],
   "source": [
    "trees_params_v3 = {'base_estimator__max_depth': [1,2,3,4,5],\n",
    "                   'base_estimator__max_features': [0.75,0.85,0.05],\n",
    "                   'n_estimators': [100]}"
   ]
  },
  {
   "cell_type": "code",
   "execution_count": 165,
   "metadata": {},
   "outputs": [],
   "source": [
    "trees_model_v3 = DecisionTreeClassifier()"
   ]
  },
  {
   "cell_type": "code",
   "execution_count": 166,
   "metadata": {},
   "outputs": [],
   "source": [
    "boosting_trees_model_v3 = AdaBoostClassifier(base_estimator = trees_model_v3, random_state=123)"
   ]
  },
  {
   "cell_type": "code",
   "execution_count": 167,
   "metadata": {},
   "outputs": [],
   "source": [
    "first_model_trees_v3 = modelarte(X_train_v3, y_train_v3, boosting_trees_model_v3, trees_params_v3, optimizer=True)"
   ]
  },
  {
   "cell_type": "code",
   "execution_count": 168,
   "metadata": {},
   "outputs": [
    {
     "data": {
      "text/plain": [
       "{'base_estimator__max_depth': 5,\n",
       " 'base_estimator__max_features': 0.75,\n",
       " 'n_estimators': 100}"
      ]
     },
     "execution_count": 168,
     "metadata": {},
     "output_type": "execute_result"
    }
   ],
   "source": [
    "first_model_trees_v3.best_params_"
   ]
  },
  {
   "cell_type": "code",
   "execution_count": 301,
   "metadata": {},
   "outputs": [
    {
     "data": {
      "text/plain": [
       "0.4178272980501393"
      ]
     },
     "execution_count": 301,
     "metadata": {},
     "output_type": "execute_result"
    }
   ],
   "source": [
    "first_model_trees_v3.score(X_test_v3,y_test_v3)"
   ]
  },
  {
   "cell_type": "markdown",
   "metadata": {},
   "source": [
    "Classification Report and ROC for this dataset"
   ]
  },
  {
   "cell_type": "code",
   "execution_count": 365,
   "metadata": {},
   "outputs": [],
   "source": [
    "third_pred = first_model_trees_v3.predict(X_test_v3)"
   ]
  },
  {
   "cell_type": "code",
   "execution_count": 366,
   "metadata": {},
   "outputs": [
    {
     "name": "stdout",
     "output_type": "stream",
     "text": [
      "              precision    recall  f1-score   support\n",
      "\n",
      "           A       0.36      0.45      0.40       164\n",
      "           B       0.36      0.36      0.36       194\n",
      "           C       0.37      0.33      0.35       177\n",
      "           D       0.60      0.54      0.57       183\n",
      "\n",
      "   micro avg       0.42      0.42      0.42       718\n",
      "   macro avg       0.42      0.42      0.42       718\n",
      "weighted avg       0.42      0.42      0.42       718\n",
      "\n"
     ]
    }
   ],
   "source": [
    "print(metrics.classification_report(y_test_v3, third_pred))"
   ]
  },
  {
   "cell_type": "code",
   "execution_count": 368,
   "metadata": {},
   "outputs": [],
   "source": [
    "third_y_test_bin = label_binarize(y_test_v3, first_model_trees_v3.classes_)"
   ]
  },
  {
   "cell_type": "code",
   "execution_count": 370,
   "metadata": {},
   "outputs": [
    {
     "name": "stdout",
     "output_type": "stream",
     "text": [
      "Area under ROC curve (ROC-AUC):\n",
      "Class A: 0.65\n",
      "Class B: 0.62\n",
      "Class C: 0.62\n",
      "Class D: 0.8\n"
     ]
    }
   ],
   "source": [
    "print('Area under ROC curve (ROC-AUC):')\n",
    "for i, class_ in enumerate(first_model_trees_v3.classes_):\n",
    "    print('Class {}:'.format(class_), round(roc_auc_score(\n",
    "        third_y_test_bin[:, i], first_model_trees_v3.predict_proba(X_test_v3)[:, i]), 2))"
   ]
  },
  {
   "cell_type": "markdown",
   "metadata": {},
   "source": [
    "**This model is taking almost the minimum max_depth and an intermediate max_features parameter, and it's very far from the score I got only with the base data. Also, it has worst recall, precision and area under the ROC curve, so I'm not going to go deeper with this option**"
   ]
  },
  {
   "cell_type": "markdown",
   "metadata": {},
   "source": [
    "**Feature importance**\n",
    "\n",
    "Feature importance is going to be done using the base_df predictions with Logistic Regression CV, as it was the model which obtained the best score."
   ]
  },
  {
   "cell_type": "markdown",
   "metadata": {},
   "source": [
    "Saving everything before advancing just in case"
   ]
  },
  {
   "cell_type": "code",
   "execution_count": 237,
   "metadata": {},
   "outputs": [],
   "source": [
    "final_pred_train = first_model_logreg.predict(X_train_v1)\n",
    "final_pred_test = first_model_logreg.predict(X_test_v1)\n",
    "final_prob_train = first_model_logreg.predict_proba(X_train_v1)\n",
    "final_prob_test = first_model_logreg.predict_proba(X_test_v1)"
   ]
  },
  {
   "cell_type": "code",
   "execution_count": 240,
   "metadata": {},
   "outputs": [],
   "source": [
    "final_pred_train_df = pd.DataFrame(final_pred_train,columns=[\"pred\"])\n",
    "final_pred_test_df = pd.DataFrame(final_pred_test,columns=[\"pred\"])\n",
    "final_prob_train_df = pd.DataFrame(final_prob_train,columns=[\"A\",\"B\",\"C\",\"D\"])\n",
    "final_prob_test_df = pd.DataFrame(final_prob_test,columns=[\"A\",\"B\",\"C\",\"D\"])"
   ]
  },
  {
   "cell_type": "code",
   "execution_count": 225,
   "metadata": {},
   "outputs": [],
   "source": [
    "final_pred_train_df.to_csv(r'/Users/gonzaloferreiro/Documents/GA_Materials/DS_Inmersive/DSI8-lessons/projects/project-4/final_pred_train.csv',\n",
    "                 index=False)"
   ]
  },
  {
   "cell_type": "code",
   "execution_count": 226,
   "metadata": {},
   "outputs": [],
   "source": [
    "final_pred_test_df.to_csv(r'/Users/gonzaloferreiro/Documents/GA_Materials/DS_Inmersive/DSI8-lessons/projects/project-4/final_pred_test.csv',\n",
    "                 index=False)"
   ]
  },
  {
   "cell_type": "code",
   "execution_count": 241,
   "metadata": {},
   "outputs": [],
   "source": [
    "final_prob_train_df.to_csv(r'/Users/gonzaloferreiro/Documents/GA_Materials/DS_Inmersive/DSI8-lessons/projects/project-4/final_prob_train.csv',\n",
    "                 index=False)"
   ]
  },
  {
   "cell_type": "code",
   "execution_count": 242,
   "metadata": {},
   "outputs": [],
   "source": [
    "final_prob_test_df.to_csv(r'/Users/gonzaloferreiro/Documents/GA_Materials/DS_Inmersive/DSI8-lessons/projects/project-4/final_prob_test.csv',\n",
    "                 index=False)"
   ]
  },
  {
   "cell_type": "markdown",
   "metadata": {},
   "source": [
    "Checking for Feature Importance"
   ]
  },
  {
   "cell_type": "code",
   "execution_count": 247,
   "metadata": {},
   "outputs": [
    {
     "data": {
      "text/html": [
       "<div>\n",
       "<style scoped>\n",
       "    .dataframe tbody tr th:only-of-type {\n",
       "        vertical-align: middle;\n",
       "    }\n",
       "\n",
       "    .dataframe tbody tr th {\n",
       "        vertical-align: top;\n",
       "    }\n",
       "\n",
       "    .dataframe thead th {\n",
       "        text-align: right;\n",
       "    }\n",
       "</style>\n",
       "<table border=\"1\" class=\"dataframe\">\n",
       "  <thead>\n",
       "    <tr style=\"text-align: right;\">\n",
       "      <th></th>\n",
       "      <th>feature</th>\n",
       "      <th>coefA</th>\n",
       "      <th>coefB</th>\n",
       "      <th>coefC</th>\n",
       "      <th>coefD</th>\n",
       "    </tr>\n",
       "  </thead>\n",
       "  <tbody>\n",
       "    <tr>\n",
       "      <th>0</th>\n",
       "      <td>Company_AMSI Consultancy Services</td>\n",
       "      <td>0.029196</td>\n",
       "      <td>0.049440</td>\n",
       "      <td>0.106503</td>\n",
       "      <td>0.027979</td>\n",
       "    </tr>\n",
       "    <tr>\n",
       "      <th>1</th>\n",
       "      <td>Company_AWE</td>\n",
       "      <td>0.094433</td>\n",
       "      <td>0.050060</td>\n",
       "      <td>0.029280</td>\n",
       "      <td>0.017410</td>\n",
       "    </tr>\n",
       "    <tr>\n",
       "      <th>2</th>\n",
       "      <td>Company_Accenture</td>\n",
       "      <td>0.017071</td>\n",
       "      <td>0.039565</td>\n",
       "      <td>0.090093</td>\n",
       "      <td>0.032233</td>\n",
       "    </tr>\n",
       "    <tr>\n",
       "      <th>3</th>\n",
       "      <td>Company_Acorn Recruitment Limited</td>\n",
       "      <td>0.057541</td>\n",
       "      <td>0.028030</td>\n",
       "      <td>0.135689</td>\n",
       "      <td>0.052996</td>\n",
       "    </tr>\n",
       "    <tr>\n",
       "      <th>4</th>\n",
       "      <td>Company_Ad Warrior</td>\n",
       "      <td>0.032546</td>\n",
       "      <td>0.061491</td>\n",
       "      <td>0.127542</td>\n",
       "      <td>0.032930</td>\n",
       "    </tr>\n",
       "  </tbody>\n",
       "</table>\n",
       "</div>"
      ],
      "text/plain": [
       "                             feature     coefA     coefB     coefC     coefD\n",
       "0  Company_AMSI Consultancy Services  0.029196  0.049440  0.106503  0.027979\n",
       "1                        Company_AWE  0.094433  0.050060  0.029280  0.017410\n",
       "2                  Company_Accenture  0.017071  0.039565  0.090093  0.032233\n",
       "3  Company_Acorn Recruitment Limited  0.057541  0.028030  0.135689  0.052996\n",
       "4                 Company_Ad Warrior  0.032546  0.061491  0.127542  0.032930"
      ]
     },
     "execution_count": 247,
     "metadata": {},
     "output_type": "execute_result"
    }
   ],
   "source": [
    "# create a dataframe to look at the coefficients\n",
    "final_pred_coef_df = pd.DataFrame({'feature': base_df_dumm.columns,\n",
    "                                   'coefA': np.abs(first_model_logreg.coef_[0]),\n",
    "                                   'coefB': np.abs(first_model_logreg.coef_[1]),\n",
    "                                   'coefC': np.abs(first_model_logreg.coef_[2]),\n",
    "                                   'coefD': np.abs(first_model_logreg.coef_[3]),})\n",
    "\n",
    "final_pred_coef_df.head()"
   ]
  },
  {
   "cell_type": "code",
   "execution_count": 256,
   "metadata": {},
   "outputs": [
    {
     "name": "stdout",
     "output_type": "stream",
     "text": [
      "<class 'pandas.core.frame.DataFrame'>\n",
      "RangeIndex: 352 entries, 0 to 351\n",
      "Data columns (total 5 columns):\n",
      "feature    352 non-null object\n",
      "coefA      352 non-null float64\n",
      "coefB      352 non-null float64\n",
      "coefC      352 non-null float64\n",
      "coefD      352 non-null float64\n",
      "dtypes: float64(4), object(1)\n",
      "memory usage: 13.8+ KB\n"
     ]
    }
   ],
   "source": [
    "final_pred_coef_df.info()"
   ]
  },
  {
   "cell_type": "code",
   "execution_count": 300,
   "metadata": {},
   "outputs": [
    {
     "data": {
      "image/png": "[encoded data removed]",
      "text/plain": [
       "<Figure size 1440x1080 with 4 Axes>"
      ]
     },
     "metadata": {
      "needs_background": "light"
     },
     "output_type": "display_data"
    }
   ],
   "source": [
    "fig, ((ax1,ax2),(ax3,ax4)) = plt.subplots(nrows=2, ncols=2, figsize=(20, 15));\n",
    "\n",
    "plt.subplots_adjust(hspace = 0.5)\n",
    "\n",
    "barplot11 = sns.barplot(x=final_pred_coef_df[\"feature\"].sort_values(ascending=False).head(10).values,\n",
    "            y=final_pred_coef_df[\"coefA\"].sort_values(ascending=False).head(10).values, ax=ax1);\n",
    "\n",
    "barplot12 = sns.barplot(x=final_pred_coef_df[\"feature\"].sort_values(ascending=False).head(10).values,\n",
    "            y=final_pred_coef_df[\"coefB\"].sort_values(ascending=False).head(10).values, ax=ax2);\n",
    "\n",
    "barplot21 = sns.barplot(x=final_pred_coef_df[\"feature\"].sort_values(ascending=False).head(10).values,\n",
    "            y=final_pred_coef_df[\"coefC\"].sort_values(ascending=False).head(10).values, ax=ax3);\n",
    "\n",
    "barplot22 = sns.barplot(x=final_pred_coef_df[\"feature\"].sort_values(ascending=False).head(10).values,\n",
    "            y=final_pred_coef_df[\"coefD\"].sort_values(ascending=False).head(10).values, ax=ax4);\n",
    "\n",
    "barplot11.set_xticklabels(barplot11.get_xticklabels(), rotation=-60);\n",
    "barplot11.set_title(\"Feature Importance for predicting Salary Class A\");\n",
    "barplot12.set_xticklabels(barplot12.get_xticklabels(), rotation=-60);\n",
    "barplot12.set_title(\"Feature Importance for predicting Salary Class B\");\n",
    "barplot21.set_xticklabels(barplot21.get_xticklabels(), rotation=-60);\n",
    "barplot21.set_title(\"Feature Importance for predicting Salary Class C\");\n",
    "barplot22.set_xticklabels(barplot22.get_xticklabels(), rotation=-60);\n",
    "barplot22.set_title(\"Feature Importance for predicting Salary Class D\");"
   ]
  },
  {
   "cell_type": "markdown",
   "metadata": {},
   "source": [
    "Before analyzing the previous charts, let's introduce a friendly reminder of what are we trying to predict:\n",
    "\n",
    "* 4 different salary categories\n",
    "* Salaries of what? Data science related job posts in Indeed.co.uy\n",
    "* And from where those categories come from? From the average salary of Indeed's publications\n",
    "* And how many categories are we trying to predict? Four divided into quartiles\n",
    "\n",
    "Having said that, using the base_df, we can see there are some clear features that determine if one job posts is in one category or another:\n",
    "\n",
    "* Seniority: this categoty was created from the original Job Title and Summary, classifying publications according to the presence or not of some words. As we can see, the tree levels impact very strongly in all categories, being the first coefficients in terms of absolute size\n",
    "\n",
    "* In the second place, comes the Job_Type. This feature represents the kind of contract of each publication, and was obtained from the default filters Indeed has to search publications. Using it to navigate through the site, enabled me to also saved it as a feature to input into the model\n",
    "\n",
    "* Finally, we've for all the salary categories, 2 kinds of jobs, that are the titles scrapped and cleaned from indeed: Web Content Specialist and Test Engineer \n",
    "\n",
    "This dataset contains hundreds of features, but it's nice to see there's a clear trend throughout the categories, at least regarding the most important features."
   ]
  },
  {
   "cell_type": "markdown",
   "metadata": {
    "focus": false,
    "id": "4fb29de2-5b98-474c-a4ad-5170b72b9aea"
   },
   "source": [
    "<img src=\"http://imgur.com/xDpSobf.png\" style=\"float: left; margin: 25px 15px 0px 0px; height: 25px\">\n",
    "\n",
    "\n",
    "\n",
    "#### IMPORTANT NOTE: **In the following section I'm gonna answer the bonus question and the model evaluation task asked previously:**\n",
    "\n",
    "#### Model evaluation:\n",
    "\n",
    "Your boss would rather tell a client incorrectly that they would get a lower salary job than tell a client incorrectly that they would get a high salary job. Adjust one of your models to ease his mind, and explain what it is doing and any tradeoffs. \n",
    "\n",
    "\n",
    "- Use cross-validation to evaluate your models. [PREVIOUSLY DONE FOR ALL MODELS]\n",
    "- Evaluate the accuracy, AUC, precision and recall of the models. [PREVIOUSLY DONE FOR ALL DATASETS]\n",
    "- Plot the ROC and precision-recall curves for at least one of your models. [DONE]\n",
    "\n",
    "#### Bonus:\n",
    "\n",
    "- Answer the salary discussion by using your model to explain the tradeoffs between detecting high vs low salary positions. [DONE]\n",
    "- Discuss the differences and explain when you want a high-recall or a high-precision model in this scenario. [DONE]\n",
    "- Obtain the ROC/precision-recall curves for the different models you studied (at least the tuned model of each category) and compare. [DONE]"
   ]
  },
  {
   "cell_type": "code",
   "execution_count": 356,
   "metadata": {},
   "outputs": [],
   "source": [
    "from sklearn.preprocessing import label_binarize\n",
    "from sklearn import metrics\n",
    "import scikitplot as skplt\n",
    "from matplotlib.colors import ListedColormap\n",
    "cmap = ListedColormap(sns.color_palette(\"gist_rainbow_r\"))"
   ]
  },
  {
   "cell_type": "code",
   "execution_count": 357,
   "metadata": {},
   "outputs": [
    {
     "name": "stdout",
     "output_type": "stream",
     "text": [
      "              precision    recall  f1-score   support\n",
      "\n",
      "           A       0.90      0.88      0.89        41\n",
      "           B       0.88      0.86      0.87        49\n",
      "           C       0.80      0.75      0.78        44\n",
      "           D       0.86      0.96      0.91        46\n",
      "\n",
      "   micro avg       0.86      0.86      0.86       180\n",
      "   macro avg       0.86      0.86      0.86       180\n",
      "weighted avg       0.86      0.86      0.86       180\n",
      "\n"
     ]
    }
   ],
   "source": [
    "print(metrics.classification_report(y_test_v1, final_pred_test_df))"
   ]
  },
  {
   "cell_type": "code",
   "execution_count": 358,
   "metadata": {
    "focus": false,
    "id": "068dc1cf-7fd7-4f27-a1f1-7f0a5a221d29"
   },
   "outputs": [
    {
     "data": {
      "image/png": "[encoded data removed]",
      "text/plain": [
       "<Figure size 432x288 with 2 Axes>"
      ]
     },
     "metadata": {
      "needs_background": "light"
     },
     "output_type": "display_data"
    }
   ],
   "source": [
    "skplt.metrics.plot_confusion_matrix(y_test_v1, final_pred_test_df)\n",
    "plt.show()"
   ]
  },
  {
   "cell_type": "code",
   "execution_count": 334,
   "metadata": {},
   "outputs": [
    {
     "name": "stdout",
     "output_type": "stream",
     "text": [
      "              precision    recall  f1-score   support\n",
      "\n",
      "           A       0.93      0.96      0.95       164\n",
      "           B       0.94      0.97      0.96       194\n",
      "           C       0.97      0.91      0.94       177\n",
      "           D       0.97      0.97      0.97       183\n",
      "\n",
      "   micro avg       0.95      0.95      0.95       718\n",
      "   macro avg       0.95      0.95      0.95       718\n",
      "weighted avg       0.95      0.95      0.95       718\n",
      "\n"
     ]
    }
   ],
   "source": [
    "print(metrics.classification_report(y_train_v1, final_pred_train_df))"
   ]
  },
  {
   "cell_type": "code",
   "execution_count": 318,
   "metadata": {},
   "outputs": [
    {
     "data": {
      "image/png": "[encoded data removed]",
      "text/plain": [
       "<Figure size 432x288 with 2 Axes>"
      ]
     },
     "metadata": {
      "needs_background": "light"
     },
     "output_type": "display_data"
    }
   ],
   "source": [
    "skplt.metrics.plot_confusion_matrix(y_train_v1, final_pred_train_df)\n",
    "plt.show()"
   ]
  },
  {
   "cell_type": "markdown",
   "metadata": {},
   "source": [
    "As we can see in the previous Confusion Matrix, the model based on Logistic Regression, predicted very well all the categories, with a slightly better performance for categories A and D.\n",
    "\n",
    "Also, as shown in the classification report, the model presents very good values for Recall and Precision. However, the boss would rather tell a client incorrectly that they would get a lower salary job than tell a client incorrectly that they would get a high salary job. So basically I need to take the Recall to 1 for classes A and B, that are the ones that indicate the lower half of salaries.\n",
    "\n",
    "So, let's see the current ROC and precision-recall plots to proceed with the analysis:"
   ]
  },
  {
   "cell_type": "code",
   "execution_count": 335,
   "metadata": {},
   "outputs": [],
   "source": [
    "y_test_bin = label_binarize(y_test_v1, first_model_logreg.classes_)"
   ]
  },
  {
   "cell_type": "code",
   "execution_count": 339,
   "metadata": {},
   "outputs": [
    {
     "name": "stdout",
     "output_type": "stream",
     "text": [
      "Area under ROC curve (ROC-AUC):\n",
      "Class A: 0.99\n",
      "Class B: 0.96\n",
      "Class C: 0.94\n",
      "Class D: 0.99\n"
     ]
    }
   ],
   "source": [
    "print('Area under ROC curve (ROC-AUC):')\n",
    "for i, class_ in enumerate(first_model_logreg.classes_):\n",
    "    print('Class {}:'.format(class_), round(roc_auc_score(\n",
    "        y_test_bin[:, i], first_model_logreg.predict_proba(X_test_v1)[:, i]), 2))"
   ]
  },
  {
   "cell_type": "code",
   "execution_count": 359,
   "metadata": {},
   "outputs": [
    {
     "data": {
      "image/png": "[encoded data removed]",
      "text/plain": [
       "<Figure size 576x432 with 1 Axes>"
      ]
     },
     "metadata": {
      "needs_background": "light"
     },
     "output_type": "display_data"
    }
   ],
   "source": [
    "skplt.metrics.plot_roc(y_test_v1, first_model_logreg.predict_proba(X_test_v1), plot_micro=False, plot_macro=False,\n",
    "                       title_fontsize=20, text_fontsize=16, figsize=(8, 6), cmap=cmap)\n",
    "plt.show()\n"
   ]
  },
  {
   "cell_type": "markdown",
   "metadata": {},
   "source": [
    "So here we have some interesting findings here:\n",
    "\n",
    "* For the first category of salaries, named \"A\", it seems that we can take our True Positive Rate -also known as Recall- to 1 without affecting so much our False Positive Rate. In english this means we can adjust our threshold to predict as \"A\" all of the \"A\" values, without getting too much False Positives\n",
    "\n",
    "\n",
    "* However, for the second category of \"low salaries\", named \"B\", corresponding to those between the percentiles 0.25 and 0.50, modifying our threshold to predict all the positive values as positive, would imply predicting a lot of negative values incorrectely, as we would be ending with a False Positive Rate around 0.85. So I wouldn't recommend to follow the strategy my boss is raising. \n",
    "\n",
    "We can confirm this, by checking the Precision Recall Curve:"
   ]
  },
  {
   "cell_type": "code",
   "execution_count": 346,
   "metadata": {},
   "outputs": [
    {
     "name": "stdout",
     "output_type": "stream",
     "text": [
      "Area under precision-recall curve:\n",
      "Class A: 0.972\n",
      "Class B: 0.925\n",
      "Class C: 0.9083\n",
      "Class D: 0.9753\n"
     ]
    }
   ],
   "source": [
    "print('Area under precision-recall curve:')\n",
    "for i, class_ in enumerate(first_model_logreg.classes_):\n",
    "    print('Class {}:'.format(class_), round(metrics.average_precision_score(\n",
    "        y_test_bin[:, i], first_model_logreg.predict_proba(X_test_v1)[:, i]), 4))"
   ]
  },
  {
   "cell_type": "code",
   "execution_count": 360,
   "metadata": {},
   "outputs": [
    {
     "data": {
      "image/png": "[encoded data removed]",
      "text/plain": [
       "<Figure size 576x432 with 1 Axes>"
      ]
     },
     "metadata": {
      "needs_background": "light"
     },
     "output_type": "display_data"
    }
   ],
   "source": [
    "skplt.metrics.plot_precision_recall(y_test_v1, first_model_logreg.predict_proba(X_test_v1), plot_micro=False,\n",
    "                       title_fontsize=20, text_fontsize=16, figsize=(8, 6), cmap=cmap)\n",
    "plt.show()\n"
   ]
  },
  {
   "cell_type": "markdown",
   "metadata": {},
   "source": [
    "So in the end, we have a very solid model to predict categories when the importance of them is equal, and we don’t have the need for pondering any class or classes. In that case, I should work on a new model with weighted categories."
   ]
  },
  {
   "cell_type": "markdown",
   "metadata": {},
   "source": [
    "### Summarize your results in an executive summary written for a non-technical audience.\n",
    "   \n",
    "- Writeups should be at least 500-1000 words, defining any technical terms, explaining your approach, as well as any risks and limitations."
   ]
  },
  {
   "cell_type": "markdown",
   "metadata": {},
   "source": [
    "https://docs.google.com/document/d/1s-BsA0gQ91M7TCeXxvTZf0fPDn4Iznvrr2bUrUPmp7Q/edit?usp=sharing"
   ]
  },
  {
   "cell_type": "markdown",
   "metadata": {},
   "source": [
    "<img src=\"http://imgur.com/xDpSobf.png\" style=\"float: left; margin: 25px 15px 0px 0px; height: 25px\">\n",
    "\n",
    "### BONUS\n",
    "\n",
    "Convert your executive summary into a public blog post of at least 500 words, in which you document your approach in a tutorial for other aspiring data scientists. Link to this in your notebook."
   ]
  },
  {
   "cell_type": "markdown",
   "metadata": {},
   "source": [
    "https://www.linkedin.com/pulse/from-job-posts-salary-categories-classification-ferreiro-volpi"
   ]
  }
 ],
 "metadata": {
  "kernelspec": {
   "display_name": "Python 3",
   "language": "python",
   "name": "python3"
  },
  "language_info": {
   "codemirror_mode": {
    "name": "ipython",
    "version": 3
   },
   "file_extension": ".py",
   "mimetype": "text/x-python",
   "name": "python",
   "nbconvert_exporter": "python",
   "pygments_lexer": "ipython3",
   "version": "3.6.8"
  },
  "toc": {
   "base_numbering": 1,
   "nav_menu": {},
   "number_sections": false,
   "sideBar": true,
   "skip_h1_title": true,
   "title_cell": "Table of Contents",
   "title_sidebar": "Contents",
   "toc_cell": false,
   "toc_position": {},
   "toc_section_display": "block",
   "toc_window_display": false
  }
 },
 "nbformat": 4,
 "nbformat_minor": 1
}
